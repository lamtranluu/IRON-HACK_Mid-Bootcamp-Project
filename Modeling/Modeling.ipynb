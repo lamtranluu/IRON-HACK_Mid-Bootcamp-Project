{
 "cells": [
  {
   "cell_type": "markdown",
   "id": "8da5cb31",
   "metadata": {
    "toc": true
   },
   "source": [
    "<h1>Table of Contents<span class=\"tocSkip\"></span></h1>\n",
    "<div class=\"toc\"><ul class=\"toc-item\"><li><span><a href=\"#Importing-all-necessary-modules,-packages-&amp;-data\" data-toc-modified-id=\"Importing-all-necessary-modules,-packages-&amp;-data-1\"><span class=\"toc-item-num\">1&nbsp;&nbsp;</span>Importing all necessary modules, packages &amp; data</a></span></li><li><span><a href=\"#Modeling\" data-toc-modified-id=\"Modeling-2\"><span class=\"toc-item-num\">2&nbsp;&nbsp;</span>Modeling</a></span><ul class=\"toc-item\"><li><span><a href=\"#Baseline-model\" data-toc-modified-id=\"Baseline-model-2.1\"><span class=\"toc-item-num\">2.1&nbsp;&nbsp;</span>Baseline model</a></span><ul class=\"toc-item\"><li><span><a href=\"#Separating-features-from-label\" data-toc-modified-id=\"Separating-features-from-label-2.1.1\"><span class=\"toc-item-num\">2.1.1&nbsp;&nbsp;</span>Separating features from label</a></span></li><li><span><a href=\"#Preprocessing-for-the-model\" data-toc-modified-id=\"Preprocessing-for-the-model-2.1.2\"><span class=\"toc-item-num\">2.1.2&nbsp;&nbsp;</span>Preprocessing for the model</a></span></li><li><span><a href=\"#Train-&amp;-test-split\" data-toc-modified-id=\"Train-&amp;-test-split-2.1.3\"><span class=\"toc-item-num\">2.1.3&nbsp;&nbsp;</span>Train &amp; test split</a></span></li><li><span><a href=\"#Selecting-the-model,-fitting-it-to-the-training-subset-and-making-predictions\" data-toc-modified-id=\"Selecting-the-model,-fitting-it-to-the-training-subset-and-making-predictions-2.1.4\"><span class=\"toc-item-num\">2.1.4&nbsp;&nbsp;</span>Selecting the model, fitting it to the training subset and making predictions</a></span></li><li><span><a href=\"#Getting-error-metrics-and-interpreting-them\" data-toc-modified-id=\"Getting-error-metrics-and-interpreting-them-2.1.5\"><span class=\"toc-item-num\">2.1.5&nbsp;&nbsp;</span>Getting error metrics and interpreting them</a></span></li></ul></li><li><span><a href=\"#Iteration-1\" data-toc-modified-id=\"Iteration-1-2.2\"><span class=\"toc-item-num\">2.2&nbsp;&nbsp;</span>Iteration 1</a></span></li><li><span><a href=\"#Iteration-2\" data-toc-modified-id=\"Iteration-2-2.3\"><span class=\"toc-item-num\">2.3&nbsp;&nbsp;</span>Iteration 2</a></span></li><li><span><a href=\"#Iteration-3\" data-toc-modified-id=\"Iteration-3-2.4\"><span class=\"toc-item-num\">2.4&nbsp;&nbsp;</span>Iteration 3</a></span></li><li><span><a href=\"#Iteration-4\" data-toc-modified-id=\"Iteration-4-2.5\"><span class=\"toc-item-num\">2.5&nbsp;&nbsp;</span>Iteration 4</a></span></li><li><span><a href=\"#Iteration-5\" data-toc-modified-id=\"Iteration-5-2.6\"><span class=\"toc-item-num\">2.6&nbsp;&nbsp;</span>Iteration 5</a></span></li><li><span><a href=\"#Iteration-6\" data-toc-modified-id=\"Iteration-6-2.7\"><span class=\"toc-item-num\">2.7&nbsp;&nbsp;</span>Iteration 6</a></span></li><li><span><a href=\"#Searching-for-the-optimal-hyperparams-for-Gradient-Boosting-Regressor\" data-toc-modified-id=\"Searching-for-the-optimal-hyperparams-for-Gradient-Boosting-Regressor-2.8\"><span class=\"toc-item-num\">2.8&nbsp;&nbsp;</span>Searching for the optimal hyperparams for Gradient Boosting Regressor</a></span></li><li><span><a href=\"#Iteration-7\" data-toc-modified-id=\"Iteration-7-2.9\"><span class=\"toc-item-num\">2.9&nbsp;&nbsp;</span>Iteration 7</a></span></li></ul></li><li><span><a href=\"#Models-evaluation\" data-toc-modified-id=\"Models-evaluation-3\"><span class=\"toc-item-num\">3&nbsp;&nbsp;</span>Models evaluation</a></span></li><li><span><a href=\"#Feature-selection\" data-toc-modified-id=\"Feature-selection-4\"><span class=\"toc-item-num\">4&nbsp;&nbsp;</span>Feature selection</a></span><ul class=\"toc-item\"><li><span><a href=\"#Lasso-regression\" data-toc-modified-id=\"Lasso-regression-4.1\"><span class=\"toc-item-num\">4.1&nbsp;&nbsp;</span>Lasso regression</a></span></li><li><span><a href=\"#Gradient-Boost-regression\" data-toc-modified-id=\"Gradient-Boost-regression-4.2\"><span class=\"toc-item-num\">4.2&nbsp;&nbsp;</span>Gradient Boost regression</a></span></li></ul></li></ul></div>"
   ]
  },
  {
   "cell_type": "markdown",
   "id": "d7b405bf",
   "metadata": {},
   "source": [
    "# Importing all necessary modules, packages & data"
   ]
  },
  {
   "cell_type": "code",
   "execution_count": 205,
   "id": "c3dac7da",
   "metadata": {},
   "outputs": [],
   "source": [
    "# Data manipulation & vizualisation tools\n",
    "import numpy as np\n",
    "import pandas as pd\n",
    "import matplotlib.pyplot as plt\n",
    "%matplotlib inline\n",
    "import seaborn as sns\n",
    "# Models\n",
    "from sklearn.linear_model import LinearRegression, LassoCV, Lasso, BayesianRidge\n",
    "from sklearn.tree import DecisionTreeRegressor\n",
    "from sklearn.neighbors import KNeighborsRegressor\n",
    "from sklearn.ensemble import RandomForestRegressor, GradientBoostingRegressor\n",
    "from sklearn.kernel_ridge import KernelRidge\n",
    "from sklearn.svm import SVR\n",
    "# Scalers, encoders, metrics & tools for modeling\n",
    "from scipy import stats\n",
    "from sklearn.pipeline import Pipeline\n",
    "from sklearn.compose import ColumnTransformer\n",
    "from mlxtend.preprocessing import DenseTransformer\n",
    "from sklearn.preprocessing import RobustScaler, MinMaxScaler, Normalizer, StandardScaler, OrdinalEncoder, OneHotEncoder\n",
    "from sklearn.model_selection import RepeatedKFold, cross_val_score, train_test_split\n",
    "from sklearn.metrics import mean_squared_error, mean_absolute_error, r2_score\n",
    "from sklearn.model_selection import GridSearchCV\n",
    "import warnings\n",
    "warnings.simplefilter('ignore')"
   ]
  },
  {
   "cell_type": "code",
   "execution_count": 206,
   "id": "97f2c525",
   "metadata": {},
   "outputs": [],
   "source": [
    "df = pd.read_csv('Data/clean_data.csv')"
   ]
  },
  {
   "cell_type": "code",
   "execution_count": 207,
   "id": "466e0ead",
   "metadata": {},
   "outputs": [
    {
     "name": "stdout",
     "output_type": "stream",
     "text": [
      "<class 'pandas.core.frame.DataFrame'>\n",
      "RangeIndex: 21597 entries, 0 to 21596\n",
      "Data columns (total 28 columns):\n",
      " #   Column         Non-Null Count  Dtype  \n",
      "---  ------         --------------  -----  \n",
      " 0   date_sold      21597 non-null  object \n",
      " 1   bedrooms       21597 non-null  int64  \n",
      " 2   bathrooms      21597 non-null  int64  \n",
      " 3   m2_living      21597 non-null  float64\n",
      " 4   m2_total       21597 non-null  float64\n",
      " 5   floors         21597 non-null  int64  \n",
      " 6   waterfront     21597 non-null  bool   \n",
      " 7   view           21597 non-null  int64  \n",
      " 8   condition      21597 non-null  int64  \n",
      " 9   grade          21597 non-null  int64  \n",
      " 10  m2_above       21597 non-null  float64\n",
      " 11  m2_basement    21597 non-null  float64\n",
      " 12  yr_built       21597 non-null  int64  \n",
      " 13  yr_renovated   21597 non-null  int64  \n",
      " 14  zipcode        21597 non-null  int64  \n",
      " 15  lat            21597 non-null  float64\n",
      " 16  long           21597 non-null  float64\n",
      " 17  m2_living15    21597 non-null  float64\n",
      " 18  m2_total15     21597 non-null  float64\n",
      " 19  price          21597 non-null  int64  \n",
      " 20  yr_built_bins  21597 non-null  object \n",
      " 21  grade_cat      21597 non-null  int64  \n",
      " 22  renovated      21597 non-null  bool   \n",
      " 23  basement_cat   21597 non-null  object \n",
      " 24  month          21597 non-null  int64  \n",
      " 25  year           21597 non-null  int64  \n",
      " 26  day            21597 non-null  int64  \n",
      " 27  weekday        21597 non-null  int64  \n",
      "dtypes: bool(2), float64(8), int64(15), object(3)\n",
      "memory usage: 4.3+ MB\n"
     ]
    }
   ],
   "source": [
    "df.info()"
   ]
  },
  {
   "cell_type": "markdown",
   "id": "dfc0ed90",
   "metadata": {},
   "source": [
    "We decided to keep everything in the data wrangling process, so now it's time to prune out dataset a bit. We'll start by plotting a correlation heatmap and checking for correlation between our categorical variables to make some decisions, as well as performing some chi-squared tests across some of our categorical features to see how much they correlate."
   ]
  },
  {
   "cell_type": "code",
   "execution_count": 208,
   "id": "1089a457",
   "metadata": {},
   "outputs": [
    {
     "data": {
      "image/png": "[encoded data removed]",
      "text/plain": [
       "<Figure size 1080x1080 with 2 Axes>"
      ]
     },
     "metadata": {
      "needs_background": "light"
     },
     "output_type": "display_data"
    }
   ],
   "source": [
    "correlations_matrix = df.corr()\n",
    "mask=np.zeros_like(correlations_matrix)\n",
    "mask[np.triu_indices_from(mask)]=True\n",
    "fig, ax = plt.subplots(figsize=(15,15))\n",
    "ax=sns.heatmap(correlations_matrix, mask=mask, annot=True, center=0, \n",
    "               cmap=sns.diverging_palette(220, 20, as_cmap=True));"
   ]
  },
  {
   "cell_type": "code",
   "execution_count": 209,
   "id": "edcafe84",
   "metadata": {
    "scrolled": true
   },
   "outputs": [
    {
     "data": {
      "text/plain": [
       "(1690.1580357094874,\n",
       " 0.0,\n",
       " 12,\n",
       " array([[ 589.61689123,  559.6518961 ,  562.79233227,  560.04445062,\n",
       "          553.89442978],\n",
       "        [ 575.2207251 ,  545.98735936,  549.05111821,  546.37032921,\n",
       "          540.37046812],\n",
       "        [2735.2715655 , 2596.26198083, 2610.83067093, 2598.08306709,\n",
       "         2569.55271565],\n",
       "        [ 605.89081817,  575.09876372,  578.32587859,  575.50215308,\n",
       "          569.18238644]]))"
      ]
     },
     "execution_count": 209,
     "metadata": {},
     "output_type": "execute_result"
    }
   ],
   "source": [
    "feat_crosstab = pd.crosstab(df['basement_cat'], df['yr_built_bins'], margins=False)\n",
    "stats.chi2_contingency(feat_crosstab, correction=False)"
   ]
  },
  {
   "cell_type": "markdown",
   "id": "e3cdb74d",
   "metadata": {},
   "source": [
    "Based on the correlation heatmap, the general approach we'll take is to run a simple baseline model and then start applying several models to the features that correlate the most with price first. This decision comes from the sheer amount of variables involved, and the weak correlation that most of them have with price. From this 'pure' model (in terms of features included) we'll start iterating and including more variables, different scalers/encoders, etc."
   ]
  },
  {
   "cell_type": "markdown",
   "id": "42a9d84f",
   "metadata": {},
   "source": [
    "# Modeling\n",
    "We already have clean, ready-to-work data at hand, so it's time to start modeling to predict 'price'!"
   ]
  },
  {
   "cell_type": "markdown",
   "id": "70101e35",
   "metadata": {},
   "source": [
    "## Baseline model\n",
    "We'll use simple linear regression on the original features of the dataset (no extracted columns) with no transformations. The only exception we will make is that we use the columns extracted from date: day, weekday, month and year.  \n",
    "We will try 2 iterations: one with m2_living and m2_total and the other one with m2_living15 and m2_total15 in order to decide, from the very beginning, which one of them we'll keep."
   ]
  },
  {
   "cell_type": "markdown",
   "id": "d3499887",
   "metadata": {},
   "source": [
    "- **Disclaimer:** We will follow the same process for every modeling iteration in terms of separating features from label, applying transformations to the data, doing the train/test split, fitting the models, doing predictions and getting the error metrics, so the steps of the process will only be detailed for this baseline model. In the following iterations, only the specific changes and decisions made for that iteration will be made explicit, and preprocessing will be embedded into the modeling pipelines."
   ]
  },
  {
   "cell_type": "markdown",
   "id": "12e4b4d0",
   "metadata": {},
   "source": [
    "### Separating features from label\n",
    "Our label, of course, is the price, and we'll only keep the original features of the dataset (with either m2_living or m2_living15)."
   ]
  },
  {
   "cell_type": "code",
   "execution_count": 210,
   "id": "b4c039fb",
   "metadata": {},
   "outputs": [],
   "source": [
    "#df['waterfront'] = df['waterfront'].astype(int)\n",
    "\n",
    "y = df['price']\n",
    "\n",
    "X = df.drop(['price', 'date_sold', 'basement_cat', \n",
    "             'renovated', 'grade_cat', 'yr_built_bins', 'm2_living15', 'm2_total15'], axis=1)\n",
    "\n",
    "X_15 = df.drop(['price', 'date_sold', 'basement_cat', \n",
    "             'renovated', 'grade_cat', 'yr_built_bins', 'm2_living', 'm2_total'], axis=1)"
   ]
  },
  {
   "cell_type": "markdown",
   "id": "708fb7dc",
   "metadata": {},
   "source": [
    "### Preprocessing for the model\n",
    "In this stage, data transformations such as scaling for numerical variables or encoding for categorical ones is performed. After that, the features have to be merged together in one dataframe in order to proceed to the next stage of the process. In our baseline model we're not going to perform any preprocessing steps, so we can move on!"
   ]
  },
  {
   "cell_type": "markdown",
   "id": "26268c0e",
   "metadata": {},
   "source": [
    "### Train & test split\n",
    "Once all transformations are applied and the features are merged back together, it's time to split the sample into training and testing subsamples to fit the model and do some predictions."
   ]
  },
  {
   "cell_type": "code",
   "execution_count": 211,
   "id": "37a430a2",
   "metadata": {},
   "outputs": [],
   "source": [
    "X_train,X_test,y_train,y_test = train_test_split(X, y, test_size=0.3, random_state=42)\n",
    "X_train_15,X_test_15,y_train_15,y_test_15 = train_test_split(X_15, y, test_size=0.3, random_state=42)"
   ]
  },
  {
   "cell_type": "markdown",
   "id": "4038ef17",
   "metadata": {},
   "source": [
    "### Selecting the model, fitting it to the training subset and making predictions\n",
    "Now it's time to select what model to use (for now, a simple linear regression will do), fit it to the training data and making some predictions on the test subset. At this point the work is pretty much done... assuming no hyperparameters have to be twitched!"
   ]
  },
  {
   "cell_type": "code",
   "execution_count": 212,
   "id": "a428192a",
   "metadata": {},
   "outputs": [],
   "source": [
    "lr = LinearRegression()\n",
    "baseline = lr.fit(X_train,y_train)\n",
    "baseline_15 = lr.fit(X_train_15,y_train_15)"
   ]
  },
  {
   "cell_type": "code",
   "execution_count": 213,
   "id": "c0f0c8d8",
   "metadata": {},
   "outputs": [],
   "source": [
    "preds = baseline.predict(X_test)\n",
    "preds_15 = baseline_15.predict(X_test_15)"
   ]
  },
  {
   "cell_type": "markdown",
   "id": "97a536df",
   "metadata": {},
   "source": [
    "### Getting error metrics and interpreting them\n",
    "We will be using the same error metrics for all our models: MSE, RMSE, MAE and R2. Some notes on the metrics:\n",
    "- The units of the MSE are squared units. For example, if your target value represents “dollars,” then the MSE will be “squared dollars.” This can be confusing for stakeholders; therefore, when reporting results, often the root mean squared error is used instead (discussed in the next section). A perfect mean squared error value is 0.0, which means that all predictions matched the expected values exactly.\n",
    "- The Root Mean Squared Error, or RMSE, is an extension of the mean squared error. Importantly, the square root of the error is calculated, which means that the units of the RMSE are the same as the original units of the target value that is being predicted. A perfect RMSE value is 0.0, which means that all predictions matched the expected values exactly.\n",
    "- Mean Absolute Error, or MAE, is a popular metric because, like RMSE, the units of the error score match the units of the target value that is being predicted. Unlike the RMSE, the changes in MAE are linear and therefore intuitive. That is, MSE and RMSE punish larger errors more than smaller errors, inflating or magnifying the mean error score. This is due to the square of the error value. The MAE does not give more or less weight to different types of errors and instead the scores increase linearly with increases in error.\n",
    "- R2 is a statistical measure that represents the proportion of the variance for a dependent variable that's explained by an independent variable or variables in a regression model. It is scaled, meaning it goes from 0 to 1 for any magnitude, which makes it very convenient to compare models between them (if fitted to the same data)."
   ]
  },
  {
   "cell_type": "code",
   "execution_count": 215,
   "id": "fe49176e",
   "metadata": {
    "scrolled": true
   },
   "outputs": [
    {
     "data": {
      "text/plain": [
       "{'baseline': {'MSE': 3.9112947283793917e+20,\n",
       "  'RMSE': 19776993523.7371,\n",
       "  'MAE': 19701192068.474556,\n",
       "  'R2': -2949728490.3158674},\n",
       " 'baseline_15': {'MSE': 41422046164.8345,\n",
       "  'RMSE': 203524.06777782942,\n",
       "  'MAE': 125637.42419290914,\n",
       "  'R2': 0.687612930688966}}"
      ]
     },
     "execution_count": 215,
     "metadata": {},
     "output_type": "execute_result"
    }
   ],
   "source": [
    "results = {\n",
    "    'baseline': {\n",
    "        'MSE': mean_squared_error(y_test, preds),\n",
    "        'RMSE': np.sqrt(mean_squared_error(y_test, preds)),\n",
    "        'MAE': mean_absolute_error(y_test, preds),\n",
    "        'R2': r2_score(y_test, preds)\n",
    "    }, \n",
    "    'baseline_15': {\n",
    "        'MSE': mean_squared_error(y_test_15, preds_15),\n",
    "        'RMSE': np.sqrt(mean_squared_error(y_test_15, preds_15)),\n",
    "        'MAE': mean_absolute_error(y_test_15, preds_15),\n",
    "        'R2': r2_score(y_test_15, preds_15)\n",
    "    }\n",
    "}\n",
    "\n",
    "results"
   ]
  },
  {
   "cell_type": "markdown",
   "id": "ab07c914",
   "metadata": {},
   "source": [
    "For some reason, the model using m2_living and m2_total gets abnormal error metrics, but the one using m2_living15 and m2_total15 does not. This last model gets an R2 of 0.68 and a RMSE of 203524, which can be interpreted as predicting the price with a deviation of roughly $200k. We'll keep this as out baseline model, and completely ditch the variables m2_living and m2_total. One last thing we ought to do is to store the metrics for the definitive baseline model in a proper way."
   ]
  },
  {
   "cell_type": "code",
   "execution_count": 228,
   "id": "6b7fb8e9",
   "metadata": {},
   "outputs": [],
   "source": [
    "baseline_model = ['baseline', {}, round(r2_score(y_test_15, preds_15), 2),\n",
    "                 round(np.sqrt(mean_squared_error(y_test_15, preds_15)), 2)]"
   ]
  },
  {
   "cell_type": "markdown",
   "id": "14442acb",
   "metadata": {},
   "source": [
    "## Iteration 1\n",
    "For the first modeling iteration we will only include original features that show a high correlation with price in order to reduce potential noise. The features included will be: bedrooms, bathrooms, m2_living15, floors, waterfront, view, grade, m2_basement (we'll exclude m2_above because its high correlation with m2_living15), yr_renovated and lat. We will still not do any preprocessing, but we will apply the following models: \n",
    "- Linear regression\n",
    "- Lasso regression\n",
    "- Support vector machines\n",
    "- Decision trees regression\n",
    "- Random forest regression\n",
    "- K Neighbors regression\n",
    "- Gradient boosting regression\n",
    "- Kernel ridge regression\n",
    "- Bayesian ridge regression  \n",
    "\n",
    "The parameters for these models were mostly set to default but for the SVM, Decision trees, Random forest and K Neighbors models due to time consumption if no parameters were passed."
   ]
  },
  {
   "cell_type": "code",
   "execution_count": 219,
   "id": "70e21124",
   "metadata": {},
   "outputs": [],
   "source": [
    "y = df['price']\n",
    "X = df[['bedrooms', 'bathrooms', 'floors', 'waterfront', 'view', 'grade', \n",
    "        'm2_basement', 'yr_renovated', 'm2_living15', 'lat']]"
   ]
  },
  {
   "cell_type": "code",
   "execution_count": 220,
   "id": "7f585701",
   "metadata": {},
   "outputs": [
    {
     "name": "stdout",
     "output_type": "stream",
     "text": [
      "<class 'pandas.core.frame.DataFrame'>\n",
      "RangeIndex: 21597 entries, 0 to 21596\n",
      "Data columns (total 10 columns):\n",
      " #   Column        Non-Null Count  Dtype  \n",
      "---  ------        --------------  -----  \n",
      " 0   bedrooms      21597 non-null  int64  \n",
      " 1   bathrooms     21597 non-null  int64  \n",
      " 2   floors        21597 non-null  int64  \n",
      " 3   waterfront    21597 non-null  bool   \n",
      " 4   view          21597 non-null  int64  \n",
      " 5   grade         21597 non-null  int64  \n",
      " 6   m2_basement   21597 non-null  float64\n",
      " 7   yr_renovated  21597 non-null  int64  \n",
      " 8   m2_living15   21597 non-null  float64\n",
      " 9   lat           21597 non-null  float64\n",
      "dtypes: bool(1), float64(3), int64(6)\n",
      "memory usage: 1.5 MB\n"
     ]
    }
   ],
   "source": [
    "X.info()"
   ]
  },
  {
   "cell_type": "code",
   "execution_count": 221,
   "id": "26d0337d",
   "metadata": {},
   "outputs": [],
   "source": [
    "X_train,X_test,y_train,y_test = train_test_split(X, y, test_size=0.3, random_state=42)"
   ]
  },
  {
   "cell_type": "code",
   "execution_count": 222,
   "id": "0cb19ef9",
   "metadata": {},
   "outputs": [
    {
     "name": "stdout",
     "output_type": "stream",
     "text": [
      "gradient boosting {} (0.7636930169661972, 177013.96396098766)\n",
      "random forest {'bootstrap': True, 'max_depth': 80, 'max_features': 3, 'min_samples_leaf': 5, 'min_samples_split': 12, 'n_estimators': 100, 'criterion': 'absolute_error'} (0.7366734959308257, 186860.08261918102)\n",
      "bayesian ridge {} (0.5971073951350061, 231134.03327254052)\n",
      "linear regression {} (0.5971011047271936, 231135.83762640067)\n",
      "kernel ridge {} (0.5374831094218893, 247646.9869676343)\n",
      "lasso {} (0.5157197968747508, 253406.41667349634)\n",
      "k neighbors {'n_neighbors': 10} (0.4453204595933339, 271200.3984820368)\n",
      "k neighbors {'n_neighbors': 30} (0.44144446502783463, 272146.2971824653)\n",
      "k neighbors {'n_neighbors': 5} (0.4174441220829952, 277931.67456452147)\n",
      "k neighbors {'n_neighbors': 100} (0.41334940160544986, 278906.739574262)\n",
      "decision tree {'max_depth': 5, 'max_features': 'auto', 'max_leaf_nodes': 50, 'min_samples_leaf': 2, 'min_weight_fraction_leaf': 0.1, 'splitter': 'random'} (0.3004797909693463, 304557.5587629082)\n",
      "support vector machines {'C': 10} (-0.04591865338527579, 372407.3158776146)\n",
      "support vector machines {'C': 1} (-0.05502680919014247, 374025.3151944166)\n",
      "support vector machines {'C': 0.1} (-0.055982199787302234, 374194.6281466683)\n",
      "support vector machines {'C': 0.01} (-0.05607521604171417, 374211.1082617194)\n"
     ]
    }
   ],
   "source": [
    "linear_reg_params = [{}]\n",
    "lasso_params = [{}]\n",
    "svr_params = [{\"C\":0.01}, {\"C\":0.1}, {\"C\":1}, {\"C\":10}]\n",
    "rand_for_params = [{'bootstrap': True,\n",
    "                    'max_depth': 80,\n",
    "                    'max_features': 3,\n",
    "                    'min_samples_leaf': 5,\n",
    "                    'min_samples_split': 12,\n",
    "                    'n_estimators': 100,\n",
    "                    \"criterion\": \"absolute_error\"}]\n",
    "dec_tree_params = [{\"max_depth\": 5, \n",
    "                    \"max_features\": 'auto', \n",
    "                    \"max_leaf_nodes\": 50,\n",
    "                    \"min_samples_leaf\": 2, \n",
    "                    \"min_weight_fraction_leaf\": 0.1,\n",
    "                    \"splitter\": 'random'}]\n",
    "kneighbors_params = [{\"n_neighbors\":5}, {\"n_neighbors\":10}, {\"n_neighbors\":30}, {\"n_neighbors\":100}]\n",
    "#kneighbors_params = [{\"n_neighbors\":x for x in range(1, 25)}]\n",
    "gbr_params = [{}]\n",
    "kr_params = [{}]\n",
    "br_params = [{}]\n",
    "\n",
    "\n",
    "modelclasses = [\n",
    "    [\"linear regression\", LinearRegression, linear_reg_params],\n",
    "    [\"lasso\", LassoCV, lasso_params],\n",
    "    [\"support vector machines\", SVR, svr_params],\n",
    "    [\"decision tree\", DecisionTreeRegressor, dec_tree_params],\n",
    "    [\"random forest\", RandomForestRegressor, rand_for_params],\n",
    "    [\"k neighbors\", KNeighborsRegressor, kneighbors_params],\n",
    "    [\"gradient boosting\", GradientBoostingRegressor, gbr_params],\n",
    "    [\"kernel ridge\", KernelRidge, kr_params],\n",
    "    [\"bayesian ridge\", BayesianRidge, br_params]\n",
    "]\n",
    "\n",
    "\n",
    "metrics_1 = []\n",
    "for modelname, Model, params_list in modelclasses:\n",
    "    for params in params_list:\n",
    "        model = Model(**params)\n",
    "        model.fit(X_train, y_train)\n",
    "        preds = model.predict(X_test)\n",
    "        score = (r2_score(y_test, preds), np.sqrt(mean_squared_error(y_test, preds)))\n",
    "        metrics_1.append([modelname, params, score])\n",
    "\n",
    "metrics_1.sort(key=lambda x:x[-1], reverse=True)\n",
    "for modelname, params, score in metrics_1:\n",
    "    print(modelname, params, score)"
   ]
  },
  {
   "cell_type": "markdown",
   "id": "5c71d9f9",
   "metadata": {},
   "source": [
    "The best model in the first iteration was gradient boosting regression, with an R2 of 0.76 and a RMSE of 177687, which can be interpreted as predicting the price with a deviation of roughly $177k. We already have a candidate model better than the baseline one."
   ]
  },
  {
   "cell_type": "markdown",
   "id": "b53a1e35",
   "metadata": {},
   "source": [
    "## Iteration 2\n",
    "In this iteration we will use the same models as in Iteration 1 and we'll include all variables in the original dataset and in their original form (numericals). This decision comes from the feature selection we (kind of) unsiccessfully performed (see section 4.1). Still no preprocessing will be applied."
   ]
  },
  {
   "cell_type": "code",
   "execution_count": 229,
   "id": "0c351628",
   "metadata": {},
   "outputs": [],
   "source": [
    "y = df['price']\n",
    "X = df.drop(['price', 'date_sold', 'basement_cat', \n",
    "             'renovated', 'grade_cat', 'yr_built_bins', 'm2_living', 'm2_total'], axis=1)"
   ]
  },
  {
   "cell_type": "code",
   "execution_count": 230,
   "id": "07fef041",
   "metadata": {},
   "outputs": [],
   "source": [
    "X_train,X_test,y_train,y_test = train_test_split(X, y, test_size=0.3, random_state=42)"
   ]
  },
  {
   "cell_type": "code",
   "execution_count": 231,
   "id": "38ee0857",
   "metadata": {
    "scrolled": true
   },
   "outputs": [
    {
     "name": "stdout",
     "output_type": "stream",
     "text": [
      "gradient boosting {} (0.8667127322249951, 132942.42074687002)\n",
      "random forest {'bootstrap': True, 'max_depth': 80, 'max_features': 3, 'min_samples_leaf': 5, 'min_samples_split': 12, 'n_estimators': 100, 'criterion': 'absolute_error'} (0.7996904412115299, 162974.66123624935)\n",
      "bayesian ridge {} (0.6876215060612687, 203521.274277709)\n",
      "linear regression {} (0.687612930688966, 203524.06777782942)\n",
      "kernel ridge {} (0.6875613649560925, 203540.86494340078)\n",
      "k neighbors {'n_neighbors': 5} (0.5796715985040102, 236082.40345745356)\n",
      "k neighbors {'n_neighbors': 10} (0.5669782012929092, 239620.58805493225)\n",
      "lasso {} (0.5344764762627946, 248450.6089721595)\n",
      "k neighbors {'n_neighbors': 30} (0.5293553452150745, 249813.44883603722)\n",
      "k neighbors {'n_neighbors': 100} (0.45173586497327844, 269627.48974309076)\n",
      "decision tree {'max_depth': 5, 'max_features': 'auto', 'max_leaf_nodes': 50, 'min_samples_leaf': 2, 'min_weight_fraction_leaf': 0.1, 'splitter': 'random'} (0.42125489145773043, 277021.14279087563)\n",
      "support vector machines {'C': 10} (-0.056071552548108805, 374210.4591975381)\n",
      "support vector machines {'C': 1} (-0.056084143566945466, 374212.6899540079)\n",
      "support vector machines {'C': 0.1} (-0.05608534528359477, 374212.90286199196)\n",
      "support vector machines {'C': 0.01} (-0.05608543102968366, 374212.9180536109)\n"
     ]
    }
   ],
   "source": [
    "linear_reg_params = [{}]\n",
    "lasso_params = [{}]\n",
    "svr_params = [{\"C\":0.01}, {\"C\":0.1}, {\"C\":1}, {\"C\":10}]\n",
    "rand_for_params = [{'bootstrap': True,\n",
    "                    'max_depth': 80,\n",
    "                    'max_features': 3,\n",
    "                    'min_samples_leaf': 5,\n",
    "                    'min_samples_split': 12,\n",
    "                    'n_estimators': 100,\n",
    "                    \"criterion\": \"absolute_error\"}]\n",
    "dec_tree_params = [{\"max_depth\": 5, \n",
    "                    \"max_features\": 'auto', \n",
    "                    \"max_leaf_nodes\": 50,\n",
    "                    \"min_samples_leaf\": 2, \n",
    "                    \"min_weight_fraction_leaf\": 0.1,\n",
    "                    \"splitter\": 'random'}]\n",
    "kneighbors_params = [{\"n_neighbors\":5}, {\"n_neighbors\":10}, {\"n_neighbors\":30}, {\"n_neighbors\":100}]\n",
    "#kneighbors_params = [{\"n_neighbors\":x for x in range(1, 25)}]\n",
    "gbr_params = [{}]\n",
    "kr_params = [{}]\n",
    "br_params = [{}]\n",
    "\n",
    "\n",
    "modelclasses = [\n",
    "    [\"linear regression\", LinearRegression, linear_reg_params],\n",
    "    [\"lasso\", LassoCV, lasso_params],\n",
    "    [\"support vector machines\", SVR, svr_params],\n",
    "    [\"decision tree\", DecisionTreeRegressor, dec_tree_params],\n",
    "    [\"random forest\", RandomForestRegressor, rand_for_params],\n",
    "    [\"k neighbors\", KNeighborsRegressor, kneighbors_params],\n",
    "    [\"gradient boosting\", GradientBoostingRegressor, gbr_params],\n",
    "    [\"kernel ridge\", KernelRidge, kr_params],\n",
    "    [\"bayesian ridge\", BayesianRidge, br_params]\n",
    "]\n",
    "\n",
    "\n",
    "metrics_2 = []\n",
    "for modelname, Model, params_list in modelclasses:\n",
    "    for params in params_list:\n",
    "        model = Model(**params)\n",
    "        model.fit(X_train, y_train)\n",
    "        preds = model.predict(X_test)\n",
    "        score = (r2_score(y_test, preds), np.sqrt(mean_squared_error(y_test, preds)))\n",
    "        metrics_2.append([modelname, params, score])\n",
    "\n",
    "metrics_2.sort(key=lambda x:x[-1], reverse=True)\n",
    "for modelname, params, score in metrics_2:\n",
    "    print(modelname, params, score)"
   ]
  },
  {
   "cell_type": "markdown",
   "id": "ff51b9a7",
   "metadata": {},
   "source": [
    "Again, the best performing model has been the gradient boosting regression with an R2 of 0.86 and a RMSE of 132942, which can be interpreted as predicting the price with a deviation of roughly $133k. In general, all our models improved by including every original feature in the dataset."
   ]
  },
  {
   "cell_type": "markdown",
   "id": "20419ee4",
   "metadata": {},
   "source": [
    "## Iteration 3\n",
    "After the improvement in Iteration 2 from including every variable, we will now keep them and use a StandardScaler()."
   ]
  },
  {
   "cell_type": "code",
   "execution_count": 232,
   "id": "68032022",
   "metadata": {},
   "outputs": [],
   "source": [
    "y = df['price']\n",
    "X = df.drop(['price', 'date_sold', 'basement_cat', \n",
    "             'renovated', 'grade_cat', 'yr_built_bins', 'm2_living', 'm2_total'], axis=1)"
   ]
  },
  {
   "cell_type": "code",
   "execution_count": 233,
   "id": "649aeb4d",
   "metadata": {},
   "outputs": [],
   "source": [
    "X_train,X_test,y_train,y_test = train_test_split(X, y, test_size=0.3, random_state=42)"
   ]
  },
  {
   "cell_type": "code",
   "execution_count": 234,
   "id": "7faefaac",
   "metadata": {
    "scrolled": true
   },
   "outputs": [
    {
     "name": "stdout",
     "output_type": "stream",
     "text": [
      "gradient boosting {} (0.8663409378112219, 133127.70787083695)\n",
      "random forest {'bootstrap': True, 'max_depth': 80, 'max_features': 3, 'min_samples_leaf': 5, 'min_samples_split': 12, 'n_estimators': 100, 'criterion': 'absolute_error'} (0.7950547589100674, 164849.7029622762)\n",
      "k neighbors {'n_neighbors': 5} (0.7430254358738411, 184592.6135693628)\n",
      "k neighbors {'n_neighbors': 10} (0.7371180347821047, 186702.2905770692)\n",
      "k neighbors {'n_neighbors': 30} (0.7078820375449137, 196810.5527915255)\n",
      "lasso {} (0.6876439283565752, 203513.96984399456)\n",
      "linear regression {} (0.6876129306889681, 203524.06777782872)\n",
      "bayesian ridge {} (0.6875688580248251, 203538.42421638404)\n",
      "k neighbors {'n_neighbors': 100} (0.622777446453576, 223649.57391379945)\n",
      "decision tree {'max_depth': 5, 'max_features': 'auto', 'max_leaf_nodes': 50, 'min_samples_leaf': 2, 'min_weight_fraction_leaf': 0.1, 'splitter': 'random'} (0.33147520658405727, 297733.70994642994)\n",
      "support vector machines {'C': 10} (-0.03980060508354488, 371316.52952692116)\n",
      "support vector machines {'C': 1} (-0.05436626591078708, 373908.2098333285)\n",
      "support vector machines {'C': 0.1} (-0.055914298579584853, 374182.5973209413)\n",
      "support vector machines {'C': 0.01} (-0.05606844183970039, 374209.90806988184)\n",
      "kernel ridge {} (-1.5236292583949251, 578471.5794415851)\n"
     ]
    }
   ],
   "source": [
    "preprocessing_pipeline = Pipeline([\n",
    "    ('scaler', StandardScaler())\n",
    "])\n",
    "\n",
    "linear_reg_params = [{}]\n",
    "lasso_params = [{}]\n",
    "svr_params = [{\"C\":0.01}, {\"C\":0.1}, {\"C\":1}, {\"C\":10}]\n",
    "rand_for_params = [{'bootstrap': True,\n",
    "                    'max_depth': 80,\n",
    "                    'max_features': 3,\n",
    "                    'min_samples_leaf': 5,\n",
    "                    'min_samples_split': 12,\n",
    "                    'n_estimators': 100,\n",
    "                    \"criterion\": \"absolute_error\"}]\n",
    "dec_tree_params = [{\"max_depth\": 5, \n",
    "                    \"max_features\": 'auto', \n",
    "                    \"max_leaf_nodes\": 50,\n",
    "                    \"min_samples_leaf\": 2, \n",
    "                    \"min_weight_fraction_leaf\": 0.1,\n",
    "                    \"splitter\": 'random'}]\n",
    "kneighbors_params = [{\"n_neighbors\":5}, {\"n_neighbors\":10}, {\"n_neighbors\":30}, {\"n_neighbors\":100}]\n",
    "#kneighbors_params = [{\"n_neighbors\":x for x in range(1, 25)}]\n",
    "gbr_params = [{}]\n",
    "kr_params = [{}]\n",
    "br_params = [{}]\n",
    "\n",
    "\n",
    "modelclasses = [\n",
    "    [\"linear regression\", LinearRegression, linear_reg_params],\n",
    "    [\"lasso\", LassoCV, lasso_params],\n",
    "    [\"support vector machines\", SVR, svr_params],\n",
    "    [\"decision tree\", DecisionTreeRegressor, dec_tree_params],\n",
    "    [\"random forest\", RandomForestRegressor, rand_for_params],\n",
    "    [\"k neighbors\", KNeighborsRegressor, kneighbors_params],\n",
    "    [\"gradient boosting\", GradientBoostingRegressor, gbr_params],\n",
    "    [\"kernel ridge\", KernelRidge, kr_params],\n",
    "    [\"bayesian ridge\", BayesianRidge, br_params]\n",
    "]\n",
    "\n",
    "\n",
    "metrics_3 = []\n",
    "for modelname, Model, params_list in modelclasses:\n",
    "    for params in params_list:\n",
    "        model = Model(**params)\n",
    "        complete_pipeline = Pipeline([\n",
    "            ('preprocessor', preprocessing_pipeline),\n",
    "            ('estimator', model)\n",
    "        ])\n",
    "        complete_pipeline.fit(X_train, y_train)\n",
    "        preds = complete_pipeline.predict(X_test)\n",
    "        score = (r2_score(y_test, preds), np.sqrt(mean_squared_error(y_test, preds)))\n",
    "        metrics_3.append([modelname, params, score])\n",
    "\n",
    "metrics_3.sort(key=lambda x:x[-1], reverse=True)\n",
    "for modelname, params, score in metrics_3:\n",
    "    print(modelname, params, score)"
   ]
  },
  {
   "cell_type": "markdown",
   "id": "bf6c5832",
   "metadata": {},
   "source": [
    "Applying a Standard Scaler barely improved our results, maybe because of some strong outliers we have. One more time, the best performing model was gradient boosting, with an R2 of 0.86 and a RMSE of 132652, just a bit better than the last iteration."
   ]
  },
  {
   "cell_type": "markdown",
   "id": "76bc97cc",
   "metadata": {},
   "source": [
    "## Iteration 4\n",
    "Next, we will try including the categorical features into the equation. Now we will use the Robust Scaler for numerical variables and the One Hot Encoder for the categorical ones."
   ]
  },
  {
   "cell_type": "code",
   "execution_count": 238,
   "id": "7e0559a9",
   "metadata": {},
   "outputs": [],
   "source": [
    "y = df['price']\n",
    "X = df.drop(['price', 'date_sold', 'grade_cat', 'm2_living', 'm2_total'], axis=1)\n",
    "numerical = X.select_dtypes(include=np.number).columns.to_list()\n",
    "categorical = X.select_dtypes(exclude=np.number).columns.to_list()"
   ]
  },
  {
   "cell_type": "code",
   "execution_count": 239,
   "id": "54f93b30",
   "metadata": {},
   "outputs": [],
   "source": [
    "X_train,X_test,y_train,y_test = train_test_split(X, y, test_size=0.3, random_state=42)"
   ]
  },
  {
   "cell_type": "code",
   "execution_count": 240,
   "id": "80dfb65b",
   "metadata": {},
   "outputs": [
    {
     "name": "stdout",
     "output_type": "stream",
     "text": [
      "gradient boosting {} (0.8659906552051841, 133302.03876589073)\n",
      "random forest {'bootstrap': True, 'max_depth': 80, 'max_features': 3, 'min_samples_leaf': 5, 'min_samples_split': 12, 'n_estimators': 100, 'criterion': 'absolute_error'} (0.7680029105925462, 175392.29787546693)\n",
      "k neighbors {'n_neighbors': 5} (0.7008500065937209, 199165.33384742762)\n",
      "k neighbors {'n_neighbors': 10} (0.6987976881187496, 199847.35296701826)\n",
      "bayesian ridge {} (0.690861928812583, 202462.92005662687)\n",
      "linear regression {} (0.6907136160738103, 202511.4812535185)\n",
      "kernel ridge {} (0.6853229838190094, 204268.67015486248)\n",
      "k neighbors {'n_neighbors': 30} (0.6714225589993507, 208731.56113439376)\n",
      "lasso {} (0.6341317854223024, 220257.94873965578)\n",
      "k neighbors {'n_neighbors': 100} (0.6010536987902505, 229999.2772294731)\n",
      "decision tree {'max_depth': 5, 'max_features': 'auto', 'max_leaf_nodes': 50, 'min_samples_leaf': 2, 'min_weight_fraction_leaf': 0.1, 'splitter': 'random'} (0.41508182632985524, 278494.6184743287)\n",
      "support vector machines {'C': 10} (-0.05516065291789585, 374049.0394042687)\n",
      "support vector machines {'C': 1} (-0.05599001024741268, 374196.01198950823)\n",
      "support vector machines {'C': 0.1} (-0.056075929520894574, 374211.23466928286)\n",
      "support vector machines {'C': 0.01} (-0.056084489386387215, 374212.7512228063)\n"
     ]
    }
   ],
   "source": [
    "num_pipeline = Pipeline([\n",
    "    ('Robust_scaler', RobustScaler())\n",
    "])\n",
    "\n",
    "cat_pipeline = Pipeline([\n",
    "    ('OHE', OneHotEncoder(drop='first', handle_unknown='ignore'))\n",
    "])\n",
    "\n",
    "preprocessing_pipeline = ColumnTransformer([\n",
    "    ('numerical_preprocessor', num_pipeline, numerical),\n",
    "    ('categorical_preprocessor', cat_pipeline, categorical)\n",
    "])\n",
    "\n",
    "linear_reg_params = [{}]\n",
    "lasso_params = [{}]\n",
    "svr_params = [{\"C\":0.01}, {\"C\":0.1}, {\"C\":1}, {\"C\":10}]\n",
    "rand_for_params = [{'bootstrap': True,\n",
    "                    'max_depth': 80,\n",
    "                    'max_features': 3,\n",
    "                    'min_samples_leaf': 5,\n",
    "                    'min_samples_split': 12,\n",
    "                    'n_estimators': 100,\n",
    "                    \"criterion\": \"absolute_error\"}]\n",
    "dec_tree_params = [{\"max_depth\": 5, \n",
    "                    \"max_features\": 'auto', \n",
    "                    \"max_leaf_nodes\": 50,\n",
    "                    \"min_samples_leaf\": 2, \n",
    "                    \"min_weight_fraction_leaf\": 0.1,\n",
    "                    \"splitter\": 'random'}]\n",
    "kneighbors_params = [{\"n_neighbors\":5}, {\"n_neighbors\":10}, {\"n_neighbors\":30}, {\"n_neighbors\":100}]\n",
    "#kneighbors_params = [{\"n_neighbors\":x for x in range(1, 25)}]\n",
    "gbr_params = [{}]\n",
    "kr_params = [{}]\n",
    "br_params = [{}]\n",
    "\n",
    "\n",
    "modelclasses = [\n",
    "    [\"linear regression\", LinearRegression, linear_reg_params],\n",
    "    [\"lasso\", LassoCV, lasso_params],\n",
    "    [\"support vector machines\", SVR, svr_params],\n",
    "    [\"decision tree\", DecisionTreeRegressor, dec_tree_params],\n",
    "    [\"random forest\", RandomForestRegressor, rand_for_params],\n",
    "    [\"k neighbors\", KNeighborsRegressor, kneighbors_params],\n",
    "    [\"gradient boosting\", GradientBoostingRegressor, gbr_params],\n",
    "    [\"kernel ridge\", KernelRidge, kr_params],\n",
    "    [\"bayesian ridge\", BayesianRidge, br_params]\n",
    "]\n",
    "\n",
    "\n",
    "metrics_4 = []\n",
    "for modelname, Model, params_list in modelclasses:\n",
    "    for params in params_list:\n",
    "        model = Model(**params)\n",
    "        complete_pipeline = Pipeline([\n",
    "            ('preprocessor', preprocessing_pipeline),\n",
    "            ('estimator', model)\n",
    "        ])\n",
    "        complete_pipeline.fit(X_train, y_train)\n",
    "        preds = complete_pipeline.predict(X_test)\n",
    "        score = (r2_score(y_test, preds), np.sqrt(mean_squared_error(y_test, preds)))\n",
    "        metrics_4.append([modelname, params, score])\n",
    "\n",
    "metrics_4.sort(key=lambda x:x[-1], reverse=True)\n",
    "for modelname, params, score in metrics_4:\n",
    "    print(modelname, params, score)"
   ]
  },
  {
   "cell_type": "markdown",
   "id": "26ef492a",
   "metadata": {},
   "source": [
    "Pretty much all models have worsened slightly in this iteration, but it could well be because of the different scaler used for numerical variables. Gradient booster regressor keeps yielding the best results with an R2 of 0.86 and a RMSE of 134628."
   ]
  },
  {
   "cell_type": "markdown",
   "id": "7bcdca04",
   "metadata": {},
   "source": [
    "## Iteration 5\n",
    "In this iteration we're going to treat many of the original features as categorical, which they really are. We are referring, for example, to 'bedrooms', 'floors' or 'grade'. So the first thing we're going to do is transforming these variables to categorical, and then we're going to encode them with OneHotEncoder again. For the remaining numerical variables, we're going to stick with the StandardScaler. Also, since encoding so many categorical variables returns a sparse matrix with many 0's, we need to implement a DenseTransformer to make it dense for models such as Random Forest, that won't take a sparse matrix as input."
   ]
  },
  {
   "cell_type": "code",
   "execution_count": 241,
   "id": "faf405e5",
   "metadata": {},
   "outputs": [],
   "source": [
    "y = df['price']\n",
    "X = df.drop(['price', 'date_sold', 'grade_cat', 'm2_living', 'm2_total'], axis=1)\n",
    "X[['bedrooms', 'bathrooms', 'floors', 'waterfront', 'view', \n",
    "   'condition', 'grade', 'zipcode', 'renovated']] = X[['bedrooms', 'bathrooms', 'floors', 'waterfront', \n",
    "                                          'view', 'condition', 'grade', 'zipcode', 'renovated']].astype(object)\n",
    "numerical = X.select_dtypes(include=np.number).columns.to_list()\n",
    "categorical = X.select_dtypes(exclude=np.number).columns.to_list()"
   ]
  },
  {
   "cell_type": "markdown",
   "id": "7dccc656",
   "metadata": {},
   "source": [
    "We're going to check, through several chi-squared tests, the correlation between 3 variables that are very similar in nature: condition, grade and grade_cat. The latter was created by us, and it combines the 13 possible values of the feature grade into 5, scaling it like the condition one."
   ]
  },
  {
   "cell_type": "code",
   "execution_count": 242,
   "id": "c8058bf2",
   "metadata": {},
   "outputs": [
    {
     "data": {
      "text/plain": [
       "(1456.835876021546,\n",
       " 9.198319936194968e-280,\n",
       " 40,\n",
       " array([[1.34277909e-03, 3.62550354e-02, 3.24952540e-01, 2.73658378e+00,\n",
       "         1.20500996e+01, 8.14395518e+00, 3.51136732e+00, 1.52271149e+00,\n",
       "         5.35768857e-01, 1.19507339e-01, 1.74561282e-02],\n",
       "        [7.87146363e-03, 2.12529518e-01, 1.90489420e+00, 1.60420429e+01,\n",
       "         7.06385146e+01, 4.77404269e+01, 2.05838774e+01, 8.92623976e+00,\n",
       "         3.14071399e+00, 7.00560263e-01, 1.02329027e-01],\n",
       "        [6.49164236e-01, 1.75274344e+01, 1.57097745e+02, 1.32299671e+03,\n",
       "         5.82559985e+03, 3.93718109e+03, 1.69756448e+03, 7.36152243e+02,\n",
       "         2.59016530e+02, 5.77756170e+01, 8.43913507e+00],\n",
       "        [2.62860582e-01, 7.09723573e+00, 6.36122610e+01, 5.35709867e+02,\n",
       "         2.35891087e+03, 1.59424943e+03, 6.87380423e+02, 2.98083901e+02,\n",
       "         1.04881372e+02, 2.33945918e+01, 3.41718757e+00],\n",
       "        [7.87609390e-02, 2.12654535e+00, 1.90601472e+01, 1.60514794e+02,\n",
       "         7.06800667e+02, 4.77685095e+02, 2.05959856e+02, 8.93149048e+01,\n",
       "         3.14256147e+01, 7.00972357e+00, 1.02389221e+00]]))"
      ]
     },
     "execution_count": 242,
     "metadata": {},
     "output_type": "execute_result"
    }
   ],
   "source": [
    "feat_crosstab = pd.crosstab(X['condition'], X['grade'], margins=False)\n",
    "stats.chi2_contingency(feat_crosstab, correction=False)"
   ]
  },
  {
   "cell_type": "code",
   "execution_count": 243,
   "id": "580534c7",
   "metadata": {},
   "outputs": [
    {
     "data": {
      "text/plain": [
       "(1173.315625574987,\n",
       " 7.928969814130955e-240,\n",
       " 16,\n",
       " array([[3.62550354e-01, 2.73658378e+00, 2.01940547e+01, 5.03407881e+00,\n",
       "         6.72732324e-01],\n",
       "        [2.12529518e+00, 1.60420429e+01, 1.18378942e+02, 2.95101171e+01,\n",
       "         3.94360328e+00],\n",
       "        [1.75274344e+02, 1.32299671e+03, 9.76278094e+03, 2.43371672e+03,\n",
       "         3.25231282e+02],\n",
       "        [7.09723573e+01, 5.35709867e+02, 3.95316030e+03, 9.85464324e+02,\n",
       "         1.31693152e+02],\n",
       "        [2.12654535e+01, 1.60514794e+02, 1.18448576e+03, 2.95274760e+02,\n",
       "         3.94592304e+01]]))"
      ]
     },
     "execution_count": 243,
     "metadata": {},
     "output_type": "execute_result"
    }
   ],
   "source": [
    "feat_crosstab = pd.crosstab(X['condition'], df['grade_cat'], margins=False)\n",
    "stats.chi2_contingency(feat_crosstab, correction=False)"
   ]
  },
  {
   "cell_type": "code",
   "execution_count": 244,
   "id": "5ba82430",
   "metadata": {},
   "outputs": [
    {
     "data": {
      "text/plain": [
       "(86388.0,\n",
       " 0.0,\n",
       " 40,\n",
       " array([[1.25017364e-02, 3.37546882e-01, 3.02542020e+00, 2.54785387e+01,\n",
       "         1.12190582e+02, 7.58230310e+01, 3.26920406e+01, 1.41769690e+01,\n",
       "         4.98819280e+00, 1.11265454e+00, 1.62522573e-01],\n",
       "        [9.43649581e-02, 2.54785387e+00, 2.28363199e+01, 1.92315785e+02,\n",
       "         8.46831134e+02, 5.72323471e+02, 2.46764365e+02, 1.07009862e+02,\n",
       "         3.76516183e+01, 8.39848127e+00, 1.22674446e+00],\n",
       "        [6.96346715e-01, 1.88013613e+01, 1.68515905e+02, 1.41915460e+03,\n",
       "         6.24901542e+03, 4.22334283e+03, 1.82094666e+03, 7.89657175e+02,\n",
       "         2.77842339e+02, 6.19748576e+01, 9.05250729e+00],\n",
       "        [1.73588924e-01, 4.68690096e+00, 4.20085197e+01, 3.53774228e+02,\n",
       "         1.55778701e+03, 1.05281683e+03, 4.53935037e+02, 1.96849840e+02,\n",
       "         6.92619808e+01, 1.54494143e+01, 2.25665602e+00],\n",
       "        [2.31976663e-02, 6.26336991e-01, 5.61383525e+00, 4.72768440e+01,\n",
       "         2.08175858e+02, 1.40693846e+02, 6.06618975e+01, 2.63061536e+01,\n",
       "         9.25586887e+00, 2.06459230e+00, 3.01569662e-01]]))"
      ]
     },
     "execution_count": 244,
     "metadata": {},
     "output_type": "execute_result"
    }
   ],
   "source": [
    "feat_crosstab = pd.crosstab(df['grade_cat'], X['grade'], margins=False)\n",
    "stats.chi2_contingency(feat_crosstab, correction=False)"
   ]
  },
  {
   "cell_type": "markdown",
   "id": "fcf89af4",
   "metadata": {},
   "source": [
    "It is clear that we have to keep either grade or grade_cat, since they are extremely correlated, but the question is... should we keep grade or condition? They also appear to be highly correlated, but we don't really know the predictive capacity of each one. We finally decided to keep grade and drop both grade_cat and condition, since grade is the variable that most correlates with the other two and it might have more predictive capacity due to the variability of its values."
   ]
  },
  {
   "cell_type": "code",
   "execution_count": 245,
   "id": "84eb64e4",
   "metadata": {},
   "outputs": [],
   "source": [
    "X = X.drop(['condition'], axis=1)\n",
    "numerical = X.select_dtypes(include=np.number).columns.to_list()\n",
    "categorical = X.select_dtypes(exclude=np.number).columns.to_list()"
   ]
  },
  {
   "cell_type": "code",
   "execution_count": 246,
   "id": "914cd7be",
   "metadata": {},
   "outputs": [],
   "source": [
    "X_train,X_test,y_train,y_test = train_test_split(X, y, test_size=0.3, random_state=42)"
   ]
  },
  {
   "cell_type": "code",
   "execution_count": 247,
   "id": "84328763",
   "metadata": {},
   "outputs": [
    {
     "name": "stdout",
     "output_type": "stream",
     "text": [
      "gradient boosting {} (0.8631762974101299, 134694.51757709272)\n",
      "kernel ridge {} (0.8158439618985162, 156265.18531880318)\n",
      "bayesian ridge {} (0.8157370067317657, 156310.5570131255)\n",
      "linear regression {} (0.8151051036479273, 156578.34975909843)\n",
      "lasso {} (0.813860121044655, 157104.62245452023)\n",
      "k neighbors {'n_neighbors': 5} (0.7435740856476308, 184395.4524006342)\n",
      "k neighbors {'n_neighbors': 10} (0.7352533984702898, 187363.26539953184)\n",
      "k neighbors {'n_neighbors': 30} (0.6981132344461161, 200074.29118932437)\n",
      "k neighbors {'n_neighbors': 100} (0.6279374834667887, 222114.65264535337)\n",
      "random forest {'bootstrap': True, 'max_depth': 80, 'max_features': 3, 'min_samples_leaf': 5, 'min_samples_split': 12, 'n_estimators': 100, 'criterion': 'absolute_error'} (0.5684721038134593, 239206.8917011549)\n",
      "decision tree {'max_depth': 5, 'max_features': 'auto', 'max_leaf_nodes': 50, 'min_samples_leaf': 2, 'min_weight_fraction_leaf': 0.1, 'splitter': 'random'} (0.29687138116092493, 305342.06425686023)\n",
      "support vector machines {'C': 10} (-0.04281859966171342, 371855.00743051193)\n",
      "support vector machines {'C': 1} (-0.054699417839013664, 373967.27773344895)\n",
      "support vector machines {'C': 0.1} (-0.055948406207753765, 374188.6406039301)\n",
      "support vector machines {'C': 0.01} (-0.05607184548832511, 374210.51109803905)\n"
     ]
    }
   ],
   "source": [
    "num_pipeline = Pipeline([\n",
    "    ('standard_scaler', StandardScaler())\n",
    "])\n",
    "\n",
    "cat_pipeline = Pipeline([\n",
    "    ('OHE', OneHotEncoder(drop='first', handle_unknown='ignore'))\n",
    "])\n",
    "\n",
    "preprocessing_pipeline = ColumnTransformer([\n",
    "    ('numerical_preprocessor', num_pipeline, numerical),\n",
    "    ('categorical_preprocessor', cat_pipeline, categorical)\n",
    "])\n",
    "\n",
    "linear_reg_params = [{}]\n",
    "lasso_params = [{}]\n",
    "svr_params = [{\"C\":0.01}, {\"C\":0.1}, {\"C\":1}, {\"C\":10}]\n",
    "rand_for_params = [{'bootstrap': True,\n",
    "                    'max_depth': 80,\n",
    "                    'max_features': 3,\n",
    "                    'min_samples_leaf': 5,\n",
    "                    'min_samples_split': 12,\n",
    "                    'n_estimators': 100,\n",
    "                    \"criterion\": \"absolute_error\"}]\n",
    "dec_tree_params = [{\"max_depth\": 5, \n",
    "                    \"max_features\": 'auto', \n",
    "                    \"max_leaf_nodes\": 50,\n",
    "                    \"min_samples_leaf\": 2, \n",
    "                    \"min_weight_fraction_leaf\": 0.1,\n",
    "                    \"splitter\": 'random'}]\n",
    "kneighbors_params = [{\"n_neighbors\":5}, {\"n_neighbors\":10}, {\"n_neighbors\":30}, {\"n_neighbors\":100}]\n",
    "#kneighbors_params = [{\"n_neighbors\":x for x in range(1, 25)}]\n",
    "gbr_params = [{}]\n",
    "kr_params = [{}]\n",
    "br_params = [{}]\n",
    "\n",
    "\n",
    "modelclasses = [\n",
    "    [\"linear regression\", LinearRegression, linear_reg_params],\n",
    "    [\"lasso\", LassoCV, lasso_params],\n",
    "    [\"support vector machines\", SVR, svr_params],\n",
    "    [\"decision tree\", DecisionTreeRegressor, dec_tree_params],\n",
    "    [\"random forest\", RandomForestRegressor, rand_for_params],\n",
    "    [\"k neighbors\", KNeighborsRegressor, kneighbors_params],\n",
    "    [\"gradient boosting\", GradientBoostingRegressor, gbr_params],\n",
    "    [\"kernel ridge\", KernelRidge, kr_params],\n",
    "    [\"bayesian ridge\", BayesianRidge, br_params]\n",
    "]\n",
    "\n",
    "\n",
    "metrics_5 = []\n",
    "for modelname, Model, params_list in modelclasses:\n",
    "    for params in params_list:\n",
    "        model = Model(**params)\n",
    "        complete_pipeline = Pipeline([\n",
    "            ('preprocessor', preprocessing_pipeline),\n",
    "            ('to_dense', DenseTransformer()), \n",
    "            ('estimator', model)\n",
    "        ])\n",
    "        complete_pipeline.fit(X_train, y_train)\n",
    "        preds = complete_pipeline.predict(X_test)\n",
    "        score = (r2_score(y_test, preds), np.sqrt(mean_squared_error(y_test, preds)))\n",
    "        metrics_5.append([modelname, params, score])\n",
    "\n",
    "metrics_5.sort(key=lambda x:x[-1], reverse=True)\n",
    "for modelname, params, score in metrics_5:\n",
    "    print(modelname, params, score)"
   ]
  },
  {
   "cell_type": "markdown",
   "id": "d6da45b8",
   "metadata": {},
   "source": [
    "Treating the variables as categoricals has not improved the accuracy of the best performing model, which still is Gradient Boosting. On the other hand, it has lowered the accuracy of models such as Random Forest or Decision Tree, that suffer a lot with the column increase, but has increased the accuracy of models such as Kernel Ridge or Bayesian Ridge."
   ]
  },
  {
   "cell_type": "markdown",
   "id": "3aea4bc4",
   "metadata": {},
   "source": [
    "## Iteration 6\n",
    "For our next iteration, considering the (worse) results obtained in the last 2 iterations, where categorical variables have been included, we'll stick to numerical variables and apply a Robust Scaler to them."
   ]
  },
  {
   "cell_type": "code",
   "execution_count": 248,
   "id": "7ebc4a95",
   "metadata": {},
   "outputs": [],
   "source": [
    "y = df['price']\n",
    "X = df.drop(['price', 'date_sold', 'basement_cat', \n",
    "             'renovated', 'grade_cat', 'yr_built_bins', 'm2_living', 'm2_total'], axis=1)"
   ]
  },
  {
   "cell_type": "code",
   "execution_count": 249,
   "id": "fc09fe60",
   "metadata": {},
   "outputs": [],
   "source": [
    "X_train,X_test,y_train,y_test = train_test_split(X, y, test_size=0.3, random_state=42)"
   ]
  },
  {
   "cell_type": "code",
   "execution_count": 250,
   "id": "105d301f",
   "metadata": {
    "scrolled": true
   },
   "outputs": [
    {
     "name": "stdout",
     "output_type": "stream",
     "text": [
      "gradient boosting {} (0.8653990565123537, 133595.9528513286)\n",
      "random forest {'bootstrap': True, 'max_depth': 80, 'max_features': 3, 'min_samples_leaf': 5, 'min_samples_split': 12, 'n_estimators': 100, 'criterion': 'absolute_error'} (0.7977887253854474, 163746.4650190358)\n",
      "k neighbors {'n_neighbors': 5} (0.7085290404396829, 196592.47721825907)\n",
      "k neighbors {'n_neighbors': 10} (0.7035425471922361, 198267.00041549702)\n",
      "bayesian ridge {} (0.6876797176003575, 203502.31036241393)\n",
      "linear regression {} (0.6876129306889676, 203524.0677778289)\n",
      "k neighbors {'n_neighbors': 30} (0.6746445974814705, 207705.62643733821)\n",
      "lasso {} (0.6341317854223024, 220257.94873965578)\n",
      "k neighbors {'n_neighbors': 100} (0.604183356308811, 229095.35076088825)\n",
      "kernel ridge {} (0.5381222101251, 247475.82989320706)\n",
      "decision tree {'max_depth': 5, 'max_features': 'auto', 'max_leaf_nodes': 50, 'min_samples_leaf': 2, 'min_weight_fraction_leaf': 0.1, 'splitter': 'random'} (0.3441813013335989, 294890.74818787206)\n",
      "support vector machines {'C': 10} (-0.055160698992352764, 374049.047570848)\n",
      "support vector machines {'C': 1} (-0.05599002287545751, 374196.0142269176)\n",
      "support vector machines {'C': 0.1} (-0.05607592950117368, 374211.2346657889)\n",
      "support vector machines {'C': 0.01} (-0.05608448938422628, 374212.7512224234)\n"
     ]
    }
   ],
   "source": [
    "preprocessing_pipeline = Pipeline([\n",
    "    ('scaler', RobustScaler())\n",
    "])\n",
    "\n",
    "linear_reg_params = [{}]\n",
    "lasso_params = [{}]\n",
    "svr_params = [{\"C\":0.01}, {\"C\":0.1}, {\"C\":1}, {\"C\":10}]\n",
    "rand_for_params = [{'bootstrap': True,\n",
    "                    'max_depth': 80,\n",
    "                    'max_features': 3,\n",
    "                    'min_samples_leaf': 5,\n",
    "                    'min_samples_split': 12,\n",
    "                    'n_estimators': 100,\n",
    "                    \"criterion\": \"absolute_error\"}]\n",
    "dec_tree_params = [{\"max_depth\": 5, \n",
    "                    \"max_features\": 'auto', \n",
    "                    \"max_leaf_nodes\": 50,\n",
    "                    \"min_samples_leaf\": 2, \n",
    "                    \"min_weight_fraction_leaf\": 0.1,\n",
    "                    \"splitter\": 'random'}]\n",
    "kneighbors_params = [{\"n_neighbors\":5}, {\"n_neighbors\":10}, {\"n_neighbors\":30}, {\"n_neighbors\":100}]\n",
    "#kneighbors_params = [{\"n_neighbors\":x for x in range(1, 25)}]\n",
    "gbr_params = [{}]\n",
    "kr_params = [{}]\n",
    "br_params = [{}]\n",
    "\n",
    "\n",
    "modelclasses = [\n",
    "    [\"linear regression\", LinearRegression, linear_reg_params],\n",
    "    [\"lasso\", LassoCV, lasso_params],\n",
    "    [\"support vector machines\", SVR, svr_params],\n",
    "    [\"decision tree\", DecisionTreeRegressor, dec_tree_params],\n",
    "    [\"random forest\", RandomForestRegressor, rand_for_params],\n",
    "    [\"k neighbors\", KNeighborsRegressor, kneighbors_params],\n",
    "    [\"gradient boosting\", GradientBoostingRegressor, gbr_params],\n",
    "    [\"kernel ridge\", KernelRidge, kr_params],\n",
    "    [\"bayesian ridge\", BayesianRidge, br_params]\n",
    "]\n",
    "\n",
    "\n",
    "metrics_6 = []\n",
    "for modelname, Model, params_list in modelclasses:\n",
    "    for params in params_list:\n",
    "        model = Model(**params)\n",
    "        complete_pipeline = Pipeline([\n",
    "            ('preprocessor', preprocessing_pipeline),\n",
    "            ('estimator', model)\n",
    "        ])\n",
    "        complete_pipeline.fit(X_train, y_train)\n",
    "        preds = complete_pipeline.predict(X_test)\n",
    "        score = (r2_score(y_test, preds), np.sqrt(mean_squared_error(y_test, preds)))\n",
    "        metrics_6.append([modelname, params, score])\n",
    "\n",
    "metrics_6.sort(key=lambda x:x[-1], reverse=True)\n",
    "for modelname, params, score in metrics_6:\n",
    "    print(modelname, params, score)"
   ]
  },
  {
   "cell_type": "markdown",
   "id": "839a8bc6",
   "metadata": {},
   "source": [
    "It seems that the StandardScaler works best for our models than the Robust one. The two best models keep being gradient boosting and random forest."
   ]
  },
  {
   "cell_type": "markdown",
   "id": "ea481df4",
   "metadata": {},
   "source": [
    "## Searching for the optimal hyperparams for Gradient Boosting Regressor\n",
    "Since the gradient boosting regressor has consistently been the best performing model, we'll pay a bit more attention to it and try to find its optimal configuration in terms of hyperparameters. This will be achieved by trying random combinations of parameters and selecting the best one. In terms of data preprocessing, we'll replicate the one performed in Iteration 2. That is, including all original variables as numericals and applying a StandardScaler."
   ]
  },
  {
   "cell_type": "code",
   "execution_count": 201,
   "id": "761e4ba4",
   "metadata": {},
   "outputs": [],
   "source": [
    "GBR = GradientBoostingRegressor()\n",
    "search_grid = {'n_estimators':[100,300,500], 'learning_rate':[0.01, 0.05, 0.1],\n",
    "               'max_depth':[1,2,4],'subsample':[.5,.75,1], 'random_state':[42]}\n",
    "search = GridSearchCV(estimator=GBR, param_grid=search_grid, \n",
    "                      scoring=('neg_root_mean_squared_error', 'r2'), \n",
    "                      refit='r2', n_jobs=1, cv=3)\n"
   ]
  },
  {
   "cell_type": "code",
   "execution_count": 202,
   "id": "0196e1e4",
   "metadata": {},
   "outputs": [
    {
     "data": {
      "text/plain": [
       "0.8948079542716657"
      ]
     },
     "execution_count": 202,
     "metadata": {},
     "output_type": "execute_result"
    }
   ],
   "source": [
    "y = df['price']\n",
    "X = df.drop(['price', 'date_sold', 'basement_cat', \n",
    "             'renovated', 'grade_cat', 'yr_built_bins', 'm2_living', 'm2_total'], axis=1)\n",
    "scaler = StandardScaler()\n",
    "X = scaler.fit_transform(X)\n",
    "search.fit(X,y)\n",
    "search.best_params_\n",
    "search.best_score_"
   ]
  },
  {
   "cell_type": "code",
   "execution_count": 203,
   "id": "e7bf1fa8",
   "metadata": {},
   "outputs": [
    {
     "data": {
      "text/plain": [
       "{'learning_rate': 0.1,\n",
       " 'max_depth': 4,\n",
       " 'n_estimators': 500,\n",
       " 'random_state': 42,\n",
       " 'subsample': 0.75}"
      ]
     },
     "execution_count": 203,
     "metadata": {},
     "output_type": "execute_result"
    }
   ],
   "source": [
    "search.best_params_"
   ]
  },
  {
   "cell_type": "code",
   "execution_count": 237,
   "id": "142ed833",
   "metadata": {},
   "outputs": [
    {
     "data": {
      "text/plain": [
       "-118986.69022729927"
      ]
     },
     "execution_count": 237,
     "metadata": {},
     "output_type": "execute_result"
    }
   ],
   "source": [
    "search.cv_results_['mean_test_neg_root_mean_squared_error'].max()"
   ]
  },
  {
   "cell_type": "markdown",
   "id": "07b105d3",
   "metadata": {},
   "source": [
    "The result above is the maximum Negative Root Mean Squared Error obtained by the model. It is negative since model or parameter selection functions always try to maximize its score so metrics like the RMSE have to be negated. It represents exactly the same as RMSE once it is negated."
   ]
  },
  {
   "cell_type": "markdown",
   "id": "4ddc958e",
   "metadata": {},
   "source": [
    "## Iteration 7\n",
    "Once we found a marginally optimal hyperparameter configuration for the Gradient boosting regression, let's apply it once more (as well as the other models) to the totality of the original numerical features."
   ]
  },
  {
   "cell_type": "code",
   "execution_count": 232,
   "id": "d653a256",
   "metadata": {},
   "outputs": [],
   "source": [
    "y = df['price']\n",
    "X = df.drop(['price', 'date_sold', 'basement_cat', \n",
    "             'renovated', 'grade_cat', 'yr_built_bins', 'm2_living', 'm2_total'], axis=1)"
   ]
  },
  {
   "cell_type": "code",
   "execution_count": 233,
   "id": "2dc274e8",
   "metadata": {},
   "outputs": [],
   "source": [
    "X_train,X_test,y_train,y_test = train_test_split(X, y, test_size=0.3, random_state=42)"
   ]
  },
  {
   "cell_type": "code",
   "execution_count": 251,
   "id": "6726e112",
   "metadata": {
    "scrolled": true
   },
   "outputs": [
    {
     "name": "stdout",
     "output_type": "stream",
     "text": [
      "gradient boosting {'learning_rate': 0.1, 'max_depth': 4, 'n_estimators': 500, 'random_state': 42, 'subsample': 0.75} (0.8956470543856507, 117630.95044677713)\n",
      "random forest {'bootstrap': True, 'max_depth': 80, 'max_features': 3, 'min_samples_leaf': 5, 'min_samples_split': 12, 'n_estimators': 100, 'criterion': 'absolute_error'} (0.7967740195497754, 164156.79469154958)\n",
      "k neighbors {'n_neighbors': 5} (0.7430254358738411, 184592.6135693628)\n",
      "k neighbors {'n_neighbors': 10} (0.7371180347821047, 186702.2905770692)\n",
      "k neighbors {'n_neighbors': 30} (0.7078820375449137, 196810.5527915255)\n",
      "lasso {} (0.6876439283565752, 203513.96984399456)\n",
      "linear regression {} (0.6876129306889681, 203524.06777782872)\n",
      "bayesian ridge {} (0.6875688580248251, 203538.42421638404)\n",
      "k neighbors {'n_neighbors': 100} (0.622777446453576, 223649.57391379945)\n",
      "decision tree {'max_depth': 5, 'max_features': 'auto', 'max_leaf_nodes': 50, 'min_samples_leaf': 2, 'min_weight_fraction_leaf': 0.1, 'splitter': 'random'} (0.33501885400385856, 296943.5633699224)\n",
      "support vector machines {'C': 10} (-0.03980060508354488, 371316.52952692116)\n",
      "support vector machines {'C': 1} (-0.05436626591078708, 373908.2098333285)\n",
      "support vector machines {'C': 0.1} (-0.055914298579584853, 374182.5973209413)\n",
      "support vector machines {'C': 0.01} (-0.05606844183970039, 374209.90806988184)\n",
      "kernel ridge {} (-1.5236292583949251, 578471.5794415851)\n"
     ]
    }
   ],
   "source": [
    "preprocessing_pipeline = Pipeline([\n",
    "    ('scaler', StandardScaler())\n",
    "])\n",
    "\n",
    "linear_reg_params = [{}]\n",
    "lasso_params = [{}]\n",
    "svr_params = [{\"C\":0.01}, {\"C\":0.1}, {\"C\":1}, {\"C\":10}]\n",
    "rand_for_params = [{'bootstrap': True,\n",
    "                    'max_depth': 80,\n",
    "                    'max_features': 3,\n",
    "                    'min_samples_leaf': 5,\n",
    "                    'min_samples_split': 12,\n",
    "                    'n_estimators': 100,\n",
    "                    \"criterion\": \"absolute_error\"}]\n",
    "dec_tree_params = [{\"max_depth\": 5, \n",
    "                    \"max_features\": 'auto', \n",
    "                    \"max_leaf_nodes\": 50,\n",
    "                    \"min_samples_leaf\": 2, \n",
    "                    \"min_weight_fraction_leaf\": 0.1,\n",
    "                    \"splitter\": 'random'}]\n",
    "kneighbors_params = [{\"n_neighbors\":5}, {\"n_neighbors\":10}, {\"n_neighbors\":30}, {\"n_neighbors\":100}]\n",
    "#kneighbors_params = [{\"n_neighbors\":x for x in range(1, 25)}]\n",
    "gbr_params = [{'learning_rate': 0.1,\n",
    "               'max_depth': 4,\n",
    "               'n_estimators': 500,\n",
    "               'random_state': 42,\n",
    "               'subsample': 0.75}]\n",
    "kr_params = [{}]\n",
    "br_params = [{}]\n",
    "\n",
    "\n",
    "modelclasses = [\n",
    "    [\"linear regression\", LinearRegression, linear_reg_params],\n",
    "    [\"lasso\", LassoCV, lasso_params],\n",
    "    [\"support vector machines\", SVR, svr_params],\n",
    "    [\"decision tree\", DecisionTreeRegressor, dec_tree_params],\n",
    "    [\"random forest\", RandomForestRegressor, rand_for_params],\n",
    "    [\"k neighbors\", KNeighborsRegressor, kneighbors_params],\n",
    "    [\"gradient boosting\", GradientBoostingRegressor, gbr_params],\n",
    "    [\"kernel ridge\", KernelRidge, kr_params],\n",
    "    [\"bayesian ridge\", BayesianRidge, br_params]\n",
    "]\n",
    "\n",
    "\n",
    "metrics_7 = []\n",
    "for modelname, Model, params_list in modelclasses:\n",
    "    for params in params_list:\n",
    "        model = Model(**params)\n",
    "        complete_pipeline = Pipeline([\n",
    "            ('preprocessor', preprocessing_pipeline),\n",
    "            ('estimator', model)\n",
    "        ])\n",
    "        complete_pipeline.fit(X_train, y_train)\n",
    "        preds = complete_pipeline.predict(X_test)\n",
    "        score = (r2_score(y_test, preds), np.sqrt(mean_squared_error(y_test, preds)))\n",
    "        metrics_7.append([modelname, params, score])\n",
    "\n",
    "metrics_7.sort(key=lambda x:x[-1], reverse=True)\n",
    "for modelname, params, score in metrics_7:\n",
    "    print(modelname, params, score)"
   ]
  },
  {
   "cell_type": "markdown",
   "id": "d10bdf05",
   "metadata": {},
   "source": [
    "Consistent with the results of the cross-validation, the optimised Gradient Boosting model yielded good results with an R2 score of 0.895 and a RMSE of 117630, which can be interpreted that every prediction will deviate, on average, by $117630 from the true price."
   ]
  },
  {
   "cell_type": "markdown",
   "id": "95f26900",
   "metadata": {},
   "source": [
    "# Models evaluation\n",
    "Finally, we will evaluate the performance of all models through all iterations in terms of R2 score and RMSE by combining the results into 2 dataframes and plotting them."
   ]
  },
  {
   "cell_type": "code",
   "execution_count": 292,
   "id": "c6d7f747",
   "metadata": {},
   "outputs": [],
   "source": [
    "models = ['LinearRegression', 'LassoRegression', 'SVM', 'DecisionTree', 'RandomForest',\n",
    "         'KNeighbors', 'GadientBoosting', 'KernelRidge', 'BayesianRidge']\n",
    "r2_1 = [0.59710, 0.51571, -0.04591, 0.30047, 0.73667, 0.44144, 0.76369, 0.53748, 0.59710]\n",
    "r2_2 = [0.68761, 0.53447, -0.05607, 0.42125, 0.79969, 0.57967, 0.86671, 0.68756, 0.68762]\n",
    "r2_3 = [0.68761, 0.68764, -0.03980, 0.33147, 0.79505, 0.74302, 0.86634, 0, 0.68756]\n",
    "r2_4 = [0.69071, 0.63413, -0.05516, 0.41508, 0.76800, 0.70085, 0.86599, 0.68532, 0.69086]\n",
    "r2_5 = [0.81510, 0.81386, -0.04281, 0.29687, 0.56847, 0.74357, 0.86317, 0.81584, 0.81573]\n",
    "r2_6 = [0.68761, 0.63413, -0.05516, 0.34418, 0.79778, 0.70852, 0.86539, 0.53812, 0.68767]\n",
    "r2_7 = [0.68761, 0.68764, -0.03980, 0.33147, 0.79505, 0.74302, 0.89564, 0, 0.68756]\n",
    "rmse_1 = [231135, 253406, 372407, 304557, 186860, 272146, 177013, 247646, 231134]\n",
    "rmse_2 = [203524, 248450, 374210, 277021, 162974, 236082, 132942, 203540, 203521]\n",
    "rmse_3 = [203524, 203513, 371316, 297733, 164849, 184592, 133127, 578471, 203538]\n",
    "rmse_4 = [202511, 220257, 374049, 278494, 175392, 199165, 133302, 204268, 202462]\n",
    "rmse_5 = [156578, 157104, 371855, 305342, 239206, 184395, 134694, 156265, 156310]\n",
    "rmse_6 = [203524, 220257, 374049, 294890, 163746, 196592, 133595, 247475, 203502]\n",
    "rmse_7 = [203524, 203513, 371316, 297733, 164849, 184592, 117630, 578471, 203538]"
   ]
  },
  {
   "cell_type": "code",
   "execution_count": 295,
   "id": "317904ef",
   "metadata": {},
   "outputs": [],
   "source": [
    "r2_results = pd.DataFrame({\n",
    "    'model_name': models,\n",
    "    'iteration_1': r2_1, \n",
    "    'iteration_2': r2_2, \n",
    "    'iteration_3': r2_3,\n",
    "    'iteration_4': r2_4, \n",
    "    'iteration_5': r2_5,\n",
    "    'iteration_6': r2_6,\n",
    "    'iteration_7': r2_7\n",
    "})\n",
    "rmse_results = pd.DataFrame({\n",
    "    'model_name': models,\n",
    "    'iteration_1': rmse_1, \n",
    "    'iteration_2': rmse_2, \n",
    "    'iteration_3': rmse_3,\n",
    "    'iteration_4': rmse_4, \n",
    "    'iteration_5': rmse_5,\n",
    "    'iteration_6': rmse_6,\n",
    "    'iteration_7': rmse_7\n",
    "})"
   ]
  },
  {
   "cell_type": "markdown",
   "id": "852918b2",
   "metadata": {},
   "source": [
    "Summary table of the R2 scores obtained:"
   ]
  },
  {
   "cell_type": "code",
   "execution_count": 296,
   "id": "e0f7b0c4",
   "metadata": {},
   "outputs": [
    {
     "data": {
      "text/html": [
       "<div>\n",
       "<style scoped>\n",
       "    .dataframe tbody tr th:only-of-type {\n",
       "        vertical-align: middle;\n",
       "    }\n",
       "\n",
       "    .dataframe tbody tr th {\n",
       "        vertical-align: top;\n",
       "    }\n",
       "\n",
       "    .dataframe thead th {\n",
       "        text-align: right;\n",
       "    }\n",
       "</style>\n",
       "<table border=\"1\" class=\"dataframe\">\n",
       "  <thead>\n",
       "    <tr style=\"text-align: right;\">\n",
       "      <th></th>\n",
       "      <th>model_name</th>\n",
       "      <th>iteration_1</th>\n",
       "      <th>iteration_2</th>\n",
       "      <th>iteration_3</th>\n",
       "      <th>iteration_4</th>\n",
       "      <th>iteration_5</th>\n",
       "      <th>iteration_6</th>\n",
       "      <th>iteration_7</th>\n",
       "    </tr>\n",
       "  </thead>\n",
       "  <tbody>\n",
       "    <tr>\n",
       "      <th>0</th>\n",
       "      <td>LinearRegression</td>\n",
       "      <td>0.59710</td>\n",
       "      <td>0.68761</td>\n",
       "      <td>0.68761</td>\n",
       "      <td>0.69071</td>\n",
       "      <td>0.81510</td>\n",
       "      <td>0.68761</td>\n",
       "      <td>0.68761</td>\n",
       "    </tr>\n",
       "    <tr>\n",
       "      <th>1</th>\n",
       "      <td>LassoRegression</td>\n",
       "      <td>0.51571</td>\n",
       "      <td>0.53447</td>\n",
       "      <td>0.68764</td>\n",
       "      <td>0.63413</td>\n",
       "      <td>0.81386</td>\n",
       "      <td>0.63413</td>\n",
       "      <td>0.68764</td>\n",
       "    </tr>\n",
       "    <tr>\n",
       "      <th>2</th>\n",
       "      <td>SVM</td>\n",
       "      <td>-0.04591</td>\n",
       "      <td>-0.05607</td>\n",
       "      <td>-0.03980</td>\n",
       "      <td>-0.05516</td>\n",
       "      <td>-0.04281</td>\n",
       "      <td>-0.05516</td>\n",
       "      <td>-0.03980</td>\n",
       "    </tr>\n",
       "    <tr>\n",
       "      <th>3</th>\n",
       "      <td>DecisionTree</td>\n",
       "      <td>0.30047</td>\n",
       "      <td>0.42125</td>\n",
       "      <td>0.33147</td>\n",
       "      <td>0.41508</td>\n",
       "      <td>0.29687</td>\n",
       "      <td>0.34418</td>\n",
       "      <td>0.33147</td>\n",
       "    </tr>\n",
       "    <tr>\n",
       "      <th>4</th>\n",
       "      <td>RandomForest</td>\n",
       "      <td>0.73667</td>\n",
       "      <td>0.79969</td>\n",
       "      <td>0.79505</td>\n",
       "      <td>0.76800</td>\n",
       "      <td>0.56847</td>\n",
       "      <td>0.79778</td>\n",
       "      <td>0.79505</td>\n",
       "    </tr>\n",
       "    <tr>\n",
       "      <th>5</th>\n",
       "      <td>KNeighbors</td>\n",
       "      <td>0.44144</td>\n",
       "      <td>0.57967</td>\n",
       "      <td>0.74302</td>\n",
       "      <td>0.70085</td>\n",
       "      <td>0.74357</td>\n",
       "      <td>0.70852</td>\n",
       "      <td>0.74302</td>\n",
       "    </tr>\n",
       "    <tr>\n",
       "      <th>6</th>\n",
       "      <td>GadientBoosting</td>\n",
       "      <td>0.76369</td>\n",
       "      <td>0.86671</td>\n",
       "      <td>0.86634</td>\n",
       "      <td>0.86599</td>\n",
       "      <td>0.86317</td>\n",
       "      <td>0.86539</td>\n",
       "      <td>0.89564</td>\n",
       "    </tr>\n",
       "    <tr>\n",
       "      <th>7</th>\n",
       "      <td>KernelRidge</td>\n",
       "      <td>0.53748</td>\n",
       "      <td>0.68756</td>\n",
       "      <td>0.00000</td>\n",
       "      <td>0.68532</td>\n",
       "      <td>0.81584</td>\n",
       "      <td>0.53812</td>\n",
       "      <td>0.00000</td>\n",
       "    </tr>\n",
       "    <tr>\n",
       "      <th>8</th>\n",
       "      <td>BayesianRidge</td>\n",
       "      <td>0.59710</td>\n",
       "      <td>0.68762</td>\n",
       "      <td>0.68756</td>\n",
       "      <td>0.69086</td>\n",
       "      <td>0.81573</td>\n",
       "      <td>0.68767</td>\n",
       "      <td>0.68756</td>\n",
       "    </tr>\n",
       "  </tbody>\n",
       "</table>\n",
       "</div>"
      ],
      "text/plain": [
       "         model_name  iteration_1  iteration_2  iteration_3  iteration_4  \\\n",
       "0  LinearRegression      0.59710      0.68761      0.68761      0.69071   \n",
       "1   LassoRegression      0.51571      0.53447      0.68764      0.63413   \n",
       "2               SVM     -0.04591     -0.05607     -0.03980     -0.05516   \n",
       "3      DecisionTree      0.30047      0.42125      0.33147      0.41508   \n",
       "4      RandomForest      0.73667      0.79969      0.79505      0.76800   \n",
       "5        KNeighbors      0.44144      0.57967      0.74302      0.70085   \n",
       "6   GadientBoosting      0.76369      0.86671      0.86634      0.86599   \n",
       "7       KernelRidge      0.53748      0.68756      0.00000      0.68532   \n",
       "8     BayesianRidge      0.59710      0.68762      0.68756      0.69086   \n",
       "\n",
       "   iteration_5  iteration_6  iteration_7  \n",
       "0      0.81510      0.68761      0.68761  \n",
       "1      0.81386      0.63413      0.68764  \n",
       "2     -0.04281     -0.05516     -0.03980  \n",
       "3      0.29687      0.34418      0.33147  \n",
       "4      0.56847      0.79778      0.79505  \n",
       "5      0.74357      0.70852      0.74302  \n",
       "6      0.86317      0.86539      0.89564  \n",
       "7      0.81584      0.53812      0.00000  \n",
       "8      0.81573      0.68767      0.68756  "
      ]
     },
     "execution_count": 296,
     "metadata": {},
     "output_type": "execute_result"
    }
   ],
   "source": [
    "r2_results"
   ]
  },
  {
   "cell_type": "markdown",
   "id": "65f6aa09",
   "metadata": {},
   "source": [
    "Summary table of the RMSE scores obtained:"
   ]
  },
  {
   "cell_type": "code",
   "execution_count": 297,
   "id": "acd0da94",
   "metadata": {},
   "outputs": [
    {
     "data": {
      "text/html": [
       "<div>\n",
       "<style scoped>\n",
       "    .dataframe tbody tr th:only-of-type {\n",
       "        vertical-align: middle;\n",
       "    }\n",
       "\n",
       "    .dataframe tbody tr th {\n",
       "        vertical-align: top;\n",
       "    }\n",
       "\n",
       "    .dataframe thead th {\n",
       "        text-align: right;\n",
       "    }\n",
       "</style>\n",
       "<table border=\"1\" class=\"dataframe\">\n",
       "  <thead>\n",
       "    <tr style=\"text-align: right;\">\n",
       "      <th></th>\n",
       "      <th>model_name</th>\n",
       "      <th>iteration_1</th>\n",
       "      <th>iteration_2</th>\n",
       "      <th>iteration_3</th>\n",
       "      <th>iteration_4</th>\n",
       "      <th>iteration_5</th>\n",
       "      <th>iteration_6</th>\n",
       "      <th>iteration_7</th>\n",
       "    </tr>\n",
       "  </thead>\n",
       "  <tbody>\n",
       "    <tr>\n",
       "      <th>0</th>\n",
       "      <td>LinearRegression</td>\n",
       "      <td>231135</td>\n",
       "      <td>203524</td>\n",
       "      <td>203524</td>\n",
       "      <td>202511</td>\n",
       "      <td>156578</td>\n",
       "      <td>203524</td>\n",
       "      <td>203524</td>\n",
       "    </tr>\n",
       "    <tr>\n",
       "      <th>1</th>\n",
       "      <td>LassoRegression</td>\n",
       "      <td>253406</td>\n",
       "      <td>248450</td>\n",
       "      <td>203513</td>\n",
       "      <td>220257</td>\n",
       "      <td>157104</td>\n",
       "      <td>220257</td>\n",
       "      <td>203513</td>\n",
       "    </tr>\n",
       "    <tr>\n",
       "      <th>2</th>\n",
       "      <td>SVM</td>\n",
       "      <td>372407</td>\n",
       "      <td>374210</td>\n",
       "      <td>371316</td>\n",
       "      <td>374049</td>\n",
       "      <td>371855</td>\n",
       "      <td>374049</td>\n",
       "      <td>371316</td>\n",
       "    </tr>\n",
       "    <tr>\n",
       "      <th>3</th>\n",
       "      <td>DecisionTree</td>\n",
       "      <td>304557</td>\n",
       "      <td>277021</td>\n",
       "      <td>297733</td>\n",
       "      <td>278494</td>\n",
       "      <td>305342</td>\n",
       "      <td>294890</td>\n",
       "      <td>297733</td>\n",
       "    </tr>\n",
       "    <tr>\n",
       "      <th>4</th>\n",
       "      <td>RandomForest</td>\n",
       "      <td>186860</td>\n",
       "      <td>162974</td>\n",
       "      <td>164849</td>\n",
       "      <td>175392</td>\n",
       "      <td>239206</td>\n",
       "      <td>163746</td>\n",
       "      <td>164849</td>\n",
       "    </tr>\n",
       "    <tr>\n",
       "      <th>5</th>\n",
       "      <td>KNeighbors</td>\n",
       "      <td>272146</td>\n",
       "      <td>236082</td>\n",
       "      <td>184592</td>\n",
       "      <td>199165</td>\n",
       "      <td>184395</td>\n",
       "      <td>196592</td>\n",
       "      <td>184592</td>\n",
       "    </tr>\n",
       "    <tr>\n",
       "      <th>6</th>\n",
       "      <td>GadientBoosting</td>\n",
       "      <td>177013</td>\n",
       "      <td>132942</td>\n",
       "      <td>133127</td>\n",
       "      <td>133302</td>\n",
       "      <td>134694</td>\n",
       "      <td>133595</td>\n",
       "      <td>117630</td>\n",
       "    </tr>\n",
       "    <tr>\n",
       "      <th>7</th>\n",
       "      <td>KernelRidge</td>\n",
       "      <td>247646</td>\n",
       "      <td>203540</td>\n",
       "      <td>578471</td>\n",
       "      <td>204268</td>\n",
       "      <td>156265</td>\n",
       "      <td>247475</td>\n",
       "      <td>578471</td>\n",
       "    </tr>\n",
       "    <tr>\n",
       "      <th>8</th>\n",
       "      <td>BayesianRidge</td>\n",
       "      <td>231134</td>\n",
       "      <td>203521</td>\n",
       "      <td>203538</td>\n",
       "      <td>202462</td>\n",
       "      <td>156310</td>\n",
       "      <td>203502</td>\n",
       "      <td>203538</td>\n",
       "    </tr>\n",
       "  </tbody>\n",
       "</table>\n",
       "</div>"
      ],
      "text/plain": [
       "         model_name  iteration_1  iteration_2  iteration_3  iteration_4  \\\n",
       "0  LinearRegression       231135       203524       203524       202511   \n",
       "1   LassoRegression       253406       248450       203513       220257   \n",
       "2               SVM       372407       374210       371316       374049   \n",
       "3      DecisionTree       304557       277021       297733       278494   \n",
       "4      RandomForest       186860       162974       164849       175392   \n",
       "5        KNeighbors       272146       236082       184592       199165   \n",
       "6   GadientBoosting       177013       132942       133127       133302   \n",
       "7       KernelRidge       247646       203540       578471       204268   \n",
       "8     BayesianRidge       231134       203521       203538       202462   \n",
       "\n",
       "   iteration_5  iteration_6  iteration_7  \n",
       "0       156578       203524       203524  \n",
       "1       157104       220257       203513  \n",
       "2       371855       374049       371316  \n",
       "3       305342       294890       297733  \n",
       "4       239206       163746       164849  \n",
       "5       184395       196592       184592  \n",
       "6       134694       133595       117630  \n",
       "7       156265       247475       578471  \n",
       "8       156310       203502       203538  "
      ]
     },
     "execution_count": 297,
     "metadata": {},
     "output_type": "execute_result"
    }
   ],
   "source": [
    "rmse_results"
   ]
  },
  {
   "cell_type": "markdown",
   "id": "47851f7e",
   "metadata": {},
   "source": [
    "Plotting the R2 results:"
   ]
  },
  {
   "cell_type": "code",
   "execution_count": 352,
   "id": "fe59d126",
   "metadata": {},
   "outputs": [
    {
     "data": {
      "image/png": "[encoded data removed]",
      "text/plain": [
       "<Figure size 2000x960 with 1 Axes>"
      ]
     },
     "metadata": {},
     "output_type": "display_data"
    }
   ],
   "source": [
    "plt.style.use('Solarize_Light2')\n",
    "plt.figure(figsize=[25, 12])\n",
    "wd = 0.2\n",
    "x_pos = np.arange(1, 2*len(models), 2)\n",
    "\n",
    "# Plotting the multiple bar graphs on the same figure\n",
    "plt.bar(x_pos, r2_results.iteration_1, color='r', width=wd, edgecolor='k',\n",
    "        label='Iteration 1')\n",
    "plt.bar(x_pos+wd, r2_results.iteration_2, color='y', width=wd, edgecolor='k', \n",
    "        label='Iteration 2')\n",
    "plt.bar(x_pos+(wd*2), r2_results.iteration_3, color='c', width=wd, \n",
    "        edgecolor='k', label='Iteration 3')\n",
    "plt.bar(x_pos+(wd*3), r2_results.iteration_4, color='b', width=wd, \n",
    "        edgecolor='k', label='Iteration 4')\n",
    "plt.bar(x_pos+(wd*4), r2_results.iteration_5, color='m', width=wd, edgecolor='k',\n",
    "        label='Iteration 5')\n",
    "plt.bar(x_pos+(wd*5), r2_results.iteration_6, color='g', width=wd, edgecolor='k', \n",
    "        label='Iteration 6')\n",
    "plt.bar(x_pos+(wd*6), r2_results.iteration_7, color='w', width=wd, \n",
    "        edgecolor='k', label='Iteration 7')\n",
    "\n",
    "plt.hlines(baseline_model[2], 0, 20, color='red')\n",
    "\n",
    "plt.xticks(x_pos+wd+0.2, r2_results.model_name.values, fontsize=14)\n",
    "plt.yticks(fontsize=15)\n",
    "plt.title('R2 Scores yielded by each model in each iteration', fontsize=30)\n",
    "plt.xlabel('Models', fontsize=19)\n",
    "plt.ylabel('R2 score', fontsize=19)\n",
    "\n",
    "plt.legend(loc='lower right', fontsize=15)\n",
    "plt.show();"
   ]
  },
  {
   "cell_type": "markdown",
   "id": "94bbafec",
   "metadata": {},
   "source": [
    "Plotting the RMSE results:"
   ]
  },
  {
   "cell_type": "code",
   "execution_count": 353,
   "id": "26cda172",
   "metadata": {},
   "outputs": [
    {
     "data": {
      "image/png": "[encoded data removed]",
      "text/plain": [
       "<Figure size 2000x960 with 1 Axes>"
      ]
     },
     "metadata": {},
     "output_type": "display_data"
    }
   ],
   "source": [
    "plt.style.use('Solarize_Light2')\n",
    "plt.figure(figsize=[25, 12])\n",
    "wd = 0.2\n",
    "x_pos = np.arange(1, 2*len(models), 2)\n",
    "\n",
    "# Plotting the multiple bar graphs on the same figure\n",
    "plt.bar(x_pos, rmse_results.iteration_1, color='r', width=wd, edgecolor='k',\n",
    "        label='Iteration 1')\n",
    "plt.bar(x_pos+wd, rmse_results.iteration_2, color='y', width=wd, edgecolor='k', \n",
    "        label='Iteration 2')\n",
    "plt.bar(x_pos+(wd*2), rmse_results.iteration_3, color='c', width=wd, \n",
    "        edgecolor='k', label='Iteration 3')\n",
    "plt.bar(x_pos+(wd*3), rmse_results.iteration_4, color='b', width=wd, \n",
    "        edgecolor='k', label='Iteration 4')\n",
    "plt.bar(x_pos+(wd*4), rmse_results.iteration_5, color='m', width=wd, edgecolor='k',\n",
    "        label='Iteration 5')\n",
    "plt.bar(x_pos+(wd*5), rmse_results.iteration_6, color='g', width=wd, edgecolor='k', \n",
    "        label='Iteration 6')\n",
    "plt.bar(x_pos+(wd*6), rmse_results.iteration_7, color='w', width=wd, \n",
    "        edgecolor='k', label='Iteration 7')\n",
    "\n",
    "plt.hlines(baseline_model[3], 0, 20, color='red')\n",
    "\n",
    "plt.xticks(x_pos+wd+0.2, rmse_results.model_name.values, fontsize=14)\n",
    "plt.yticks(fontsize=15)\n",
    "plt.title('RMSE Scores yielded by each model in each iteration', fontsize=30)\n",
    "plt.xlabel('Models', fontsize=19)\n",
    "plt.ylabel('RMSE score', fontsize=19)\n",
    "\n",
    "plt.legend(loc='lower right', fontsize=15)\n",
    "plt.show();"
   ]
  },
  {
   "cell_type": "markdown",
   "id": "c557a6b7",
   "metadata": {},
   "source": [
    "# Feature selection"
   ]
  },
  {
   "cell_type": "markdown",
   "id": "93e7cdf3",
   "metadata": {},
   "source": [
    "## Lasso regression\n",
    "We tried to perform feature selection on our features with Lasso regression. Methodologically, we succeeded, but apparently all of our variables are important for the model.\n",
    "Since Lasso regression is very sensitive to outliers, we used the sklearn's Robustscaler() method on pipeline."
   ]
  },
  {
   "cell_type": "code",
   "execution_count": 95,
   "id": "2d6b13aa",
   "metadata": {},
   "outputs": [
    {
     "name": "stdout",
     "output_type": "stream",
     "text": [
      "Fitting 5 folds for each of 99 candidates, totalling 495 fits\n",
      "[CV 1/5] END .......model__alpha=0.1;, score=-47336839855.918 total time=   0.4s\n",
      "[CV 2/5] END .......model__alpha=0.1;, score=-38867659224.922 total time=   0.4s\n",
      "[CV 3/5] END .......model__alpha=0.1;, score=-42744562349.746 total time=   0.4s\n",
      "[CV 4/5] END .......model__alpha=0.1;, score=-35951061541.018 total time=   0.3s\n",
      "[CV 5/5] END .......model__alpha=0.1;, score=-37771943990.230 total time=   0.3s\n",
      "[CV 1/5] END .......model__alpha=0.2;, score=-47336804616.199 total time=   0.3s\n",
      "[CV 2/5] END .......model__alpha=0.2;, score=-38867635523.419 total time=   0.3s\n",
      "[CV 3/5] END .......model__alpha=0.2;, score=-42744645924.115 total time=   0.3s\n",
      "[CV 4/5] END .......model__alpha=0.2;, score=-35951043912.522 total time=   0.3s\n",
      "[CV 5/5] END .......model__alpha=0.2;, score=-37771937812.958 total time=   0.3s\n",
      "[CV 1/5] END model__alpha=0.30000000000000004;, score=-47336769380.885 total time=   0.3s\n",
      "[CV 2/5] END model__alpha=0.30000000000000004;, score=-38867611827.304 total time=   0.3s\n",
      "[CV 3/5] END model__alpha=0.30000000000000004;, score=-42744729502.717 total time=   0.3s\n",
      "[CV 4/5] END model__alpha=0.30000000000000004;, score=-35951026288.032 total time=   0.3s\n",
      "[CV 5/5] END model__alpha=0.30000000000000004;, score=-37771931639.867 total time=   0.3s\n",
      "[CV 1/5] END .......model__alpha=0.4;, score=-47336734149.976 total time=   0.5s\n",
      "[CV 2/5] END .......model__alpha=0.4;, score=-38867588136.578 total time=   0.3s\n",
      "[CV 3/5] END .......model__alpha=0.4;, score=-42744813085.553 total time=   0.3s\n",
      "[CV 4/5] END .......model__alpha=0.4;, score=-35951008667.549 total time=   0.3s\n",
      "[CV 5/5] END .......model__alpha=0.4;, score=-37771925470.958 total time=   0.3s\n",
      "[CV 1/5] END .......model__alpha=0.5;, score=-47336698923.471 total time=   0.3s\n",
      "[CV 2/5] END .......model__alpha=0.5;, score=-38867564451.241 total time=   0.3s\n",
      "[CV 3/5] END .......model__alpha=0.5;, score=-42744896672.623 total time=   0.3s\n",
      "[CV 4/5] END .......model__alpha=0.5;, score=-35950991051.072 total time=   0.3s\n",
      "[CV 5/5] END .......model__alpha=0.5;, score=-37771919306.230 total time=   0.3s\n",
      "[CV 1/5] END .......model__alpha=0.6;, score=-47336663701.372 total time=   0.3s\n",
      "[CV 2/5] END .......model__alpha=0.6;, score=-38867540771.292 total time=   0.3s\n",
      "[CV 3/5] END .......model__alpha=0.6;, score=-42744980263.927 total time=   0.3s\n",
      "[CV 4/5] END .......model__alpha=0.6;, score=-35950973438.601 total time=   0.3s\n",
      "[CV 5/5] END .......model__alpha=0.6;, score=-37771913145.684 total time=   0.3s\n",
      "[CV 1/5] END model__alpha=0.7000000000000001;, score=-47336628483.676 total time=   0.3s\n",
      "[CV 2/5] END model__alpha=0.7000000000000001;, score=-38867517096.732 total time=   0.3s\n",
      "[CV 3/5] END model__alpha=0.7000000000000001;, score=-42745063859.464 total time=   0.3s\n",
      "[CV 4/5] END model__alpha=0.7000000000000001;, score=-35950955830.137 total time=   0.3s\n",
      "[CV 5/5] END model__alpha=0.7000000000000001;, score=-37771906989.319 total time=   0.3s\n",
      "[CV 1/5] END .......model__alpha=0.8;, score=-47336593270.386 total time=   0.3s\n",
      "[CV 2/5] END .......model__alpha=0.8;, score=-38867493427.560 total time=   0.3s\n",
      "[CV 3/5] END .......model__alpha=0.8;, score=-42745147459.235 total time=   0.3s\n",
      "[CV 4/5] END .......model__alpha=0.8;, score=-35950938225.679 total time=   0.3s\n",
      "[CV 5/5] END .......model__alpha=0.8;, score=-37771900837.136 total time=   0.3s\n",
      "[CV 1/5] END .......model__alpha=0.9;, score=-47336558061.500 total time=   0.3s\n",
      "[CV 2/5] END .......model__alpha=0.9;, score=-38867469763.777 total time=   0.3s\n",
      "[CV 3/5] END .......model__alpha=0.9;, score=-42745231063.240 total time=   0.3s\n",
      "[CV 4/5] END .......model__alpha=0.9;, score=-35950920625.227 total time=   0.3s\n",
      "[CV 5/5] END .......model__alpha=0.9;, score=-37771894689.134 total time=   0.3s\n",
      "[CV 1/5] END .......model__alpha=1.0;, score=-47336522857.019 total time=   0.3s\n",
      "[CV 2/5] END .......model__alpha=1.0;, score=-38867446105.383 total time=   0.3s\n",
      "[CV 3/5] END .......model__alpha=1.0;, score=-42745314671.479 total time=   0.3s\n",
      "[CV 4/5] END .......model__alpha=1.0;, score=-35950903028.783 total time=   0.3s\n",
      "[CV 5/5] END .......model__alpha=1.0;, score=-37771888545.313 total time=   0.3s\n",
      "[CV 1/5] END .......model__alpha=1.1;, score=-47336487656.942 total time=   0.3s\n",
      "[CV 2/5] END .......model__alpha=1.1;, score=-38867422452.377 total time=   0.3s\n",
      "[CV 3/5] END .......model__alpha=1.1;, score=-42745398283.952 total time=   0.3s\n",
      "[CV 4/5] END .......model__alpha=1.1;, score=-35950885436.344 total time=   0.3s\n",
      "[CV 5/5] END .......model__alpha=1.1;, score=-37771882405.674 total time=   0.3s\n",
      "[CV 1/5] END model__alpha=1.2000000000000002;, score=-47336452461.271 total time=   0.3s\n",
      "[CV 2/5] END model__alpha=1.2000000000000002;, score=-38867398804.761 total time=   0.3s\n",
      "[CV 3/5] END model__alpha=1.2000000000000002;, score=-42745481900.658 total time=   0.3s\n",
      "[CV 4/5] END model__alpha=1.2000000000000002;, score=-35950867847.912 total time=   0.3s\n",
      "[CV 5/5] END model__alpha=1.2000000000000002;, score=-37771876270.216 total time=   0.3s\n",
      "[CV 1/5] END model__alpha=1.3000000000000003;, score=-47336417270.004 total time=   0.3s\n",
      "[CV 2/5] END model__alpha=1.3000000000000003;, score=-38867375162.532 total time=   0.3s\n",
      "[CV 3/5] END model__alpha=1.3000000000000003;, score=-42745565521.599 total time=   0.3s\n",
      "[CV 4/5] END model__alpha=1.3000000000000003;, score=-35950850263.486 total time=   0.3s\n",
      "[CV 5/5] END model__alpha=1.3000000000000003;, score=-37771870138.940 total time=   0.3s\n",
      "[CV 1/5] END model__alpha=1.4000000000000001;, score=-47336382083.141 total time=   0.4s\n",
      "[CV 2/5] END model__alpha=1.4000000000000001;, score=-38867351525.693 total time=   0.4s\n",
      "[CV 3/5] END model__alpha=1.4000000000000001;, score=-42745649146.773 total time=   0.4s\n",
      "[CV 4/5] END model__alpha=1.4000000000000001;, score=-35950832683.066 total time=   0.3s\n",
      "[CV 5/5] END model__alpha=1.4000000000000001;, score=-37771864011.845 total time=   0.4s\n",
      "[CV 1/5] END model__alpha=1.5000000000000002;, score=-47336346900.683 total time=   0.6s\n",
      "[CV 2/5] END model__alpha=1.5000000000000002;, score=-38867327894.242 total time=   0.5s\n",
      "[CV 3/5] END model__alpha=1.5000000000000002;, score=-42745732776.181 total time=   0.4s\n",
      "[CV 4/5] END model__alpha=1.5000000000000002;, score=-35950815106.653 total time=   0.3s\n",
      "[CV 5/5] END model__alpha=1.5000000000000002;, score=-37771857888.932 total time=   0.3s\n",
      "[CV 1/5] END .......model__alpha=1.6;, score=-47336311722.630 total time=   0.3s\n",
      "[CV 2/5] END .......model__alpha=1.6;, score=-38867304268.180 total time=   0.3s\n",
      "[CV 3/5] END .......model__alpha=1.6;, score=-42745816409.822 total time=   0.3s\n",
      "[CV 4/5] END .......model__alpha=1.6;, score=-35950797534.247 total time=   0.3s\n",
      "[CV 5/5] END .......model__alpha=1.6;, score=-37771851770.199 total time=   0.3s\n",
      "[CV 1/5] END model__alpha=1.7000000000000002;, score=-47336276548.982 total time=   0.3s\n",
      "[CV 2/5] END model__alpha=1.7000000000000002;, score=-38867280647.506 total time=   0.3s\n",
      "[CV 3/5] END model__alpha=1.7000000000000002;, score=-42745900047.698 total time=   0.3s\n",
      "[CV 4/5] END model__alpha=1.7000000000000002;, score=-35950779965.847 total time=   0.3s\n",
      "[CV 5/5] END model__alpha=1.7000000000000002;, score=-37771845655.649 total time=   0.3s\n",
      "[CV 1/5] END model__alpha=1.8000000000000003;, score=-47336241379.738 total time=   0.3s\n",
      "[CV 2/5] END model__alpha=1.8000000000000003;, score=-38867257032.221 total time=   0.3s\n",
      "[CV 3/5] END model__alpha=1.8000000000000003;, score=-42745983689.807 total time=   0.3s\n",
      "[CV 4/5] END model__alpha=1.8000000000000003;, score=-35950762401.453 total time=   0.3s\n",
      "[CV 5/5] END model__alpha=1.8000000000000003;, score=-37771839545.280 total time=   0.3s\n",
      "[CV 1/5] END model__alpha=1.9000000000000001;, score=-47336206214.899 total time=   0.3s\n",
      "[CV 2/5] END model__alpha=1.9000000000000001;, score=-38867233422.325 total time=   0.3s\n",
      "[CV 3/5] END model__alpha=1.9000000000000001;, score=-42746067336.150 total time=   0.3s\n",
      "[CV 4/5] END model__alpha=1.9000000000000001;, score=-35950744841.065 total time=   0.3s\n",
      "[CV 5/5] END model__alpha=1.9000000000000001;, score=-37771833439.092 total time=   0.3s\n",
      "[CV 1/5] END .......model__alpha=2.0;, score=-47336171054.465 total time=   0.3s\n"
     ]
    },
    {
     "name": "stdout",
     "output_type": "stream",
     "text": [
      "[CV 2/5] END .......model__alpha=2.0;, score=-38867209817.817 total time=   0.3s\n",
      "[CV 3/5] END .......model__alpha=2.0;, score=-42746150986.727 total time=   0.3s\n",
      "[CV 4/5] END .......model__alpha=2.0;, score=-35950727284.684 total time=   0.3s\n",
      "[CV 5/5] END .......model__alpha=2.0;, score=-37771827337.085 total time=   0.3s\n",
      "[CV 1/5] END .......model__alpha=2.1;, score=-47336135898.435 total time=   0.3s\n",
      "[CV 2/5] END .......model__alpha=2.1;, score=-38867186218.698 total time=   0.3s\n",
      "[CV 3/5] END .......model__alpha=2.1;, score=-42746234641.538 total time=   0.3s\n",
      "[CV 4/5] END .......model__alpha=2.1;, score=-35950709732.310 total time=   0.3s\n",
      "[CV 5/5] END .......model__alpha=2.1;, score=-37771821239.261 total time=   0.3s\n",
      "[CV 1/5] END .......model__alpha=2.2;, score=-47336100746.810 total time=   0.3s\n",
      "[CV 2/5] END .......model__alpha=2.2;, score=-38867162624.968 total time=   0.3s\n",
      "[CV 3/5] END .......model__alpha=2.2;, score=-42746318300.582 total time=   0.3s\n",
      "[CV 4/5] END .......model__alpha=2.2;, score=-35950692183.942 total time=   0.3s\n",
      "[CV 5/5] END .......model__alpha=2.2;, score=-37771815145.617 total time=   0.3s\n",
      "[CV 1/5] END model__alpha=2.3000000000000003;, score=-47336065599.589 total time=   0.3s\n",
      "[CV 2/5] END model__alpha=2.3000000000000003;, score=-38867139036.627 total time=   0.3s\n",
      "[CV 3/5] END model__alpha=2.3000000000000003;, score=-42746401963.861 total time=   0.3s\n",
      "[CV 4/5] END model__alpha=2.3000000000000003;, score=-35950674639.580 total time=   0.3s\n",
      "[CV 5/5] END model__alpha=2.3000000000000003;, score=-37771809056.155 total time=   0.3s\n",
      "[CV 1/5] END model__alpha=2.4000000000000004;, score=-47336030456.774 total time=   0.3s\n",
      "[CV 2/5] END model__alpha=2.4000000000000004;, score=-38867115453.674 total time=   0.3s\n",
      "[CV 3/5] END model__alpha=2.4000000000000004;, score=-42746485631.373 total time=   0.3s\n",
      "[CV 4/5] END model__alpha=2.4000000000000004;, score=-35950657099.224 total time=   0.3s\n",
      "[CV 5/5] END model__alpha=2.4000000000000004;, score=-37771802970.874 total time=   0.3s\n",
      "[CV 1/5] END model__alpha=2.5000000000000004;, score=-47335995318.363 total time=   0.3s\n",
      "[CV 2/5] END model__alpha=2.5000000000000004;, score=-38867091876.109 total time=   0.3s\n",
      "[CV 3/5] END model__alpha=2.5000000000000004;, score=-42746569303.119 total time=   0.3s\n",
      "[CV 4/5] END model__alpha=2.5000000000000004;, score=-35950639562.875 total time=   0.3s\n",
      "[CV 5/5] END model__alpha=2.5000000000000004;, score=-37771796889.775 total time=   0.3s\n",
      "[CV 1/5] END .......model__alpha=2.6;, score=-47335960184.356 total time=   0.3s\n",
      "[CV 2/5] END .......model__alpha=2.6;, score=-38867068303.934 total time=   0.3s\n",
      "[CV 3/5] END .......model__alpha=2.6;, score=-42746652979.098 total time=   0.3s\n",
      "[CV 4/5] END .......model__alpha=2.6;, score=-35950622030.533 total time=   0.3s\n",
      "[CV 5/5] END .......model__alpha=2.6;, score=-37771790812.857 total time=   0.3s\n",
      "[CV 1/5] END .......model__alpha=2.7;, score=-47335925054.755 total time=   0.3s\n",
      "[CV 2/5] END .......model__alpha=2.7;, score=-38867044737.147 total time=   0.3s\n",
      "[CV 3/5] END .......model__alpha=2.7;, score=-42746736659.312 total time=   0.3s\n",
      "[CV 4/5] END .......model__alpha=2.7;, score=-35950604502.196 total time=   0.3s\n",
      "[CV 5/5] END .......model__alpha=2.7;, score=-37771784740.121 total time=   0.3s\n",
      "[CV 1/5] END model__alpha=2.8000000000000003;, score=-47335889929.558 total time=   0.3s\n",
      "[CV 2/5] END model__alpha=2.8000000000000003;, score=-38867021175.748 total time=   0.3s\n",
      "[CV 3/5] END model__alpha=2.8000000000000003;, score=-42746820343.759 total time=   0.3s\n",
      "[CV 4/5] END model__alpha=2.8000000000000003;, score=-35950586977.867 total time=   0.3s\n",
      "[CV 5/5] END model__alpha=2.8000000000000003;, score=-37771778671.566 total time=   0.3s\n",
      "[CV 1/5] END model__alpha=2.9000000000000004;, score=-47335854808.765 total time=   0.3s\n",
      "[CV 2/5] END model__alpha=2.9000000000000004;, score=-38866997619.739 total time=   0.3s\n",
      "[CV 3/5] END model__alpha=2.9000000000000004;, score=-42746904032.440 total time=   0.3s\n",
      "[CV 4/5] END model__alpha=2.9000000000000004;, score=-35950569457.543 total time=   0.3s\n",
      "[CV 5/5] END model__alpha=2.9000000000000004;, score=-37771772607.192 total time=   0.3s\n",
      "[CV 1/5] END model__alpha=3.0000000000000004;, score=-47335819692.378 total time=   0.3s\n",
      "[CV 2/5] END model__alpha=3.0000000000000004;, score=-38866974069.118 total time=   0.3s\n",
      "[CV 3/5] END model__alpha=3.0000000000000004;, score=-42746987725.355 total time=   0.3s\n",
      "[CV 4/5] END model__alpha=3.0000000000000004;, score=-35950551941.226 total time=   0.3s\n",
      "[CV 5/5] END model__alpha=3.0000000000000004;, score=-37771766547.000 total time=   0.3s\n",
      "[CV 1/5] END .......model__alpha=3.1;, score=-47335784580.395 total time=   0.3s\n",
      "[CV 2/5] END .......model__alpha=3.1;, score=-38866950523.885 total time=   0.3s\n",
      "[CV 3/5] END .......model__alpha=3.1;, score=-42747071422.504 total time=   0.3s\n",
      "[CV 4/5] END .......model__alpha=3.1;, score=-35950534428.916 total time=   0.3s\n",
      "[CV 5/5] END .......model__alpha=3.1;, score=-37771760490.989 total time=   0.3s\n",
      "[CV 1/5] END .......model__alpha=3.2;, score=-47335749472.817 total time=   0.3s\n",
      "[CV 2/5] END .......model__alpha=3.2;, score=-38866926984.042 total time=   0.3s\n",
      "[CV 3/5] END .......model__alpha=3.2;, score=-42747155123.886 total time=   0.3s\n",
      "[CV 4/5] END .......model__alpha=3.2;, score=-35950516920.611 total time=   0.3s\n",
      "[CV 5/5] END .......model__alpha=3.2;, score=-37771754439.160 total time=   0.3s\n",
      "[CV 1/5] END model__alpha=3.3000000000000003;, score=-47335714369.643 total time=   0.3s\n",
      "[CV 2/5] END model__alpha=3.3000000000000003;, score=-38866903449.587 total time=   0.3s\n",
      "[CV 3/5] END model__alpha=3.3000000000000003;, score=-42747238829.502 total time=   0.3s\n",
      "[CV 4/5] END model__alpha=3.3000000000000003;, score=-35950499416.314 total time=   0.3s\n",
      "[CV 5/5] END model__alpha=3.3000000000000003;, score=-37771748391.512 total time=   0.3s\n",
      "[CV 1/5] END model__alpha=3.4000000000000004;, score=-47335679270.874 total time=   0.3s\n",
      "[CV 2/5] END model__alpha=3.4000000000000004;, score=-38866879920.520 total time=   0.3s\n",
      "[CV 3/5] END model__alpha=3.4000000000000004;, score=-42747322539.352 total time=   0.3s\n",
      "[CV 4/5] END model__alpha=3.4000000000000004;, score=-35950481916.022 total time=   0.3s\n",
      "[CV 5/5] END model__alpha=3.4000000000000004;, score=-37771742348.046 total time=   0.3s\n",
      "[CV 1/5] END model__alpha=3.5000000000000004;, score=-47335644176.510 total time=   0.3s\n",
      "[CV 2/5] END model__alpha=3.5000000000000004;, score=-38866856396.843 total time=   0.3s\n",
      "[CV 3/5] END model__alpha=3.5000000000000004;, score=-42747406253.436 total time=   0.3s\n",
      "[CV 4/5] END model__alpha=3.5000000000000004;, score=-35950464419.737 total time=   0.3s\n",
      "[CV 5/5] END model__alpha=3.5000000000000004;, score=-37771736308.761 total time=   0.3s\n",
      "[CV 1/5] END .......model__alpha=3.6;, score=-47335609086.550 total time=   0.3s\n",
      "[CV 2/5] END .......model__alpha=3.6;, score=-38866832878.554 total time=   0.3s\n",
      "[CV 3/5] END .......model__alpha=3.6;, score=-42747489971.754 total time=   0.3s\n",
      "[CV 4/5] END .......model__alpha=3.6;, score=-35950446927.458 total time=   0.3s\n",
      "[CV 5/5] END .......model__alpha=3.6;, score=-37771730273.657 total time=   0.3s\n",
      "[CV 1/5] END .......model__alpha=3.7;, score=-47335574000.995 total time=   0.3s\n",
      "[CV 2/5] END .......model__alpha=3.7;, score=-38866809365.653 total time=   0.3s\n",
      "[CV 3/5] END .......model__alpha=3.7;, score=-42747573694.306 total time=   0.3s\n",
      "[CV 4/5] END .......model__alpha=3.7;, score=-35950429439.186 total time=   0.3s\n",
      "[CV 5/5] END .......model__alpha=3.7;, score=-37771724242.735 total time=   0.3s\n",
      "[CV 1/5] END model__alpha=3.8000000000000003;, score=-47335538919.845 total time=   0.3s\n",
      "[CV 2/5] END model__alpha=3.8000000000000003;, score=-38866785858.141 total time=   0.3s\n",
      "[CV 3/5] END model__alpha=3.8000000000000003;, score=-42747657421.091 total time=   0.3s\n",
      "[CV 4/5] END model__alpha=3.8000000000000003;, score=-35950411954.920 total time=   0.3s\n",
      "[CV 5/5] END model__alpha=3.8000000000000003;, score=-37771718215.994 total time=   0.3s\n",
      "[CV 1/5] END model__alpha=3.9000000000000004;, score=-47335503843.099 total time=   0.3s\n",
      "[CV 2/5] END model__alpha=3.9000000000000004;, score=-38866762356.018 total time=   0.3s\n",
      "[CV 3/5] END model__alpha=3.9000000000000004;, score=-42747741152.110 total time=   0.3s\n"
     ]
    },
    {
     "name": "stdout",
     "output_type": "stream",
     "text": [
      "[CV 4/5] END model__alpha=3.9000000000000004;, score=-35950394474.661 total time=   0.3s\n",
      "[CV 5/5] END model__alpha=3.9000000000000004;, score=-37771712193.435 total time=   0.3s\n",
      "[CV 1/5] END .......model__alpha=4.0;, score=-47335468770.759 total time=   0.3s\n",
      "[CV 2/5] END .......model__alpha=4.0;, score=-38866738859.284 total time=   0.3s\n",
      "[CV 3/5] END .......model__alpha=4.0;, score=-42747824887.363 total time=   0.3s\n",
      "[CV 4/5] END .......model__alpha=4.0;, score=-35950376998.408 total time=   0.3s\n",
      "[CV 5/5] END .......model__alpha=4.0;, score=-37771706175.057 total time=   0.3s\n",
      "[CV 1/5] END .......model__alpha=4.1;, score=-47335433702.822 total time=   0.3s\n",
      "[CV 2/5] END .......model__alpha=4.1;, score=-38866715367.938 total time=   0.3s\n",
      "[CV 3/5] END .......model__alpha=4.1;, score=-42747908626.850 total time=   0.3s\n",
      "[CV 4/5] END .......model__alpha=4.1;, score=-35950359526.161 total time=   0.3s\n",
      "[CV 5/5] END .......model__alpha=4.1;, score=-37771700160.860 total time=   0.3s\n",
      "[CV 1/5] END .......model__alpha=4.2;, score=-47335398639.291 total time=   0.3s\n",
      "[CV 2/5] END .......model__alpha=4.2;, score=-38866691881.981 total time=   0.3s\n",
      "[CV 3/5] END .......model__alpha=4.2;, score=-42747992370.570 total time=   0.3s\n",
      "[CV 4/5] END .......model__alpha=4.2;, score=-35950342057.921 total time=   0.3s\n",
      "[CV 5/5] END .......model__alpha=4.2;, score=-37771694150.845 total time=   0.3s\n",
      "[CV 1/5] END .......model__alpha=4.3;, score=-47335363580.164 total time=   0.3s\n",
      "[CV 2/5] END .......model__alpha=4.3;, score=-38866668401.413 total time=   0.3s\n",
      "[CV 3/5] END .......model__alpha=4.3;, score=-42748076118.524 total time=   0.3s\n",
      "[CV 4/5] END .......model__alpha=4.3;, score=-35950324593.687 total time=   0.3s\n",
      "[CV 5/5] END .......model__alpha=4.3;, score=-37771688145.012 total time=   0.3s\n",
      "[CV 1/5] END model__alpha=4.3999999999999995;, score=-47335328525.442 total time=   0.3s\n",
      "[CV 2/5] END model__alpha=4.3999999999999995;, score=-38866644926.233 total time=   0.3s\n",
      "[CV 3/5] END model__alpha=4.3999999999999995;, score=-42748159870.712 total time=   0.3s\n",
      "[CV 4/5] END model__alpha=4.3999999999999995;, score=-35950307133.460 total time=   0.3s\n",
      "[CV 5/5] END model__alpha=4.3999999999999995;, score=-37771682143.360 total time=   0.3s\n",
      "[CV 1/5] END .......model__alpha=4.5;, score=-47335293475.124 total time=   0.3s\n",
      "[CV 2/5] END .......model__alpha=4.5;, score=-38866621456.442 total time=   0.3s\n",
      "[CV 3/5] END .......model__alpha=4.5;, score=-42748243627.134 total time=   0.3s\n",
      "[CV 4/5] END .......model__alpha=4.5;, score=-35950289677.239 total time=   0.3s\n",
      "[CV 5/5] END .......model__alpha=4.5;, score=-37771676145.889 total time=   0.3s\n",
      "[CV 1/5] END .......model__alpha=4.6;, score=-47335258429.212 total time=   0.3s\n",
      "[CV 2/5] END .......model__alpha=4.6;, score=-38866597992.039 total time=   0.3s\n",
      "[CV 3/5] END .......model__alpha=4.6;, score=-42748327387.790 total time=   0.3s\n",
      "[CV 4/5] END .......model__alpha=4.6;, score=-35950272225.024 total time=   0.3s\n",
      "[CV 5/5] END .......model__alpha=4.6;, score=-37771670152.599 total time=   0.3s\n",
      "[CV 1/5] END .......model__alpha=4.7;, score=-47335223387.703 total time=   0.3s\n",
      "[CV 2/5] END .......model__alpha=4.7;, score=-38866574533.025 total time=   0.3s\n",
      "[CV 3/5] END .......model__alpha=4.7;, score=-42748411152.680 total time=   0.3s\n",
      "[CV 4/5] END .......model__alpha=4.7;, score=-35950254776.816 total time=   0.3s\n",
      "[CV 5/5] END .......model__alpha=4.7;, score=-37771664163.491 total time=   0.3s\n",
      "[CV 1/5] END .......model__alpha=4.8;, score=-47335188350.600 total time=   0.3s\n",
      "[CV 2/5] END .......model__alpha=4.8;, score=-38866551079.400 total time=   0.3s\n",
      "[CV 3/5] END .......model__alpha=4.8;, score=-42748494921.803 total time=   0.3s\n",
      "[CV 4/5] END .......model__alpha=4.8;, score=-35950237332.614 total time=   0.3s\n",
      "[CV 5/5] END .......model__alpha=4.8;, score=-37771658178.565 total time=   0.3s\n",
      "[CV 1/5] END .......model__alpha=4.9;, score=-47335153317.901 total time=   0.3s\n",
      "[CV 2/5] END .......model__alpha=4.9;, score=-38866527631.164 total time=   0.3s\n",
      "[CV 3/5] END .......model__alpha=4.9;, score=-42748578695.160 total time=   0.3s\n",
      "[CV 4/5] END .......model__alpha=4.9;, score=-35950219892.419 total time=   0.3s\n",
      "[CV 5/5] END .......model__alpha=4.9;, score=-37771652197.820 total time=   0.3s\n",
      "[CV 1/5] END .......model__alpha=5.0;, score=-47335118289.607 total time=   0.3s\n",
      "[CV 2/5] END .......model__alpha=5.0;, score=-38866504188.316 total time=   0.3s\n",
      "[CV 3/5] END .......model__alpha=5.0;, score=-42748662472.751 total time=   0.3s\n",
      "[CV 4/5] END .......model__alpha=5.0;, score=-35950202456.229 total time=   0.3s\n",
      "[CV 5/5] END .......model__alpha=5.0;, score=-37771646221.256 total time=   0.3s\n",
      "[CV 1/5] END .......model__alpha=5.1;, score=-47335083265.718 total time=   0.3s\n",
      "[CV 2/5] END .......model__alpha=5.1;, score=-38866480750.857 total time=   0.3s\n",
      "[CV 3/5] END .......model__alpha=5.1;, score=-42748746254.576 total time=   0.3s\n",
      "[CV 4/5] END .......model__alpha=5.1;, score=-35950185024.047 total time=   0.3s\n",
      "[CV 5/5] END .......model__alpha=5.1;, score=-37771640248.874 total time=   0.3s\n",
      "[CV 1/5] END .......model__alpha=5.2;, score=-47335048246.233 total time=   0.3s\n",
      "[CV 2/5] END .......model__alpha=5.2;, score=-38866457318.786 total time=   0.3s\n",
      "[CV 3/5] END .......model__alpha=5.2;, score=-42748830040.634 total time=   0.3s\n",
      "[CV 4/5] END .......model__alpha=5.2;, score=-35950167595.871 total time=   0.3s\n",
      "[CV 5/5] END .......model__alpha=5.2;, score=-37771634280.673 total time=   0.3s\n",
      "[CV 1/5] END .......model__alpha=5.3;, score=-47335013231.153 total time=   0.3s\n",
      "[CV 2/5] END .......model__alpha=5.3;, score=-38866433892.105 total time=   0.3s\n",
      "[CV 3/5] END .......model__alpha=5.3;, score=-42748913830.926 total time=   0.3s\n",
      "[CV 4/5] END .......model__alpha=5.3;, score=-35950150171.701 total time=   0.3s\n",
      "[CV 5/5] END .......model__alpha=5.3;, score=-37771628316.654 total time=   0.3s\n",
      "[CV 1/5] END .......model__alpha=5.4;, score=-47334978220.477 total time=   0.3s\n",
      "[CV 2/5] END .......model__alpha=5.4;, score=-38866410470.811 total time=   0.3s\n",
      "[CV 3/5] END .......model__alpha=5.4;, score=-42748997625.452 total time=   0.3s\n",
      "[CV 4/5] END .......model__alpha=5.4;, score=-35950132751.537 total time=   0.3s\n",
      "[CV 5/5] END .......model__alpha=5.4;, score=-37771622356.816 total time=   0.3s\n",
      "[CV 1/5] END .......model__alpha=5.5;, score=-47334943214.207 total time=   0.3s\n",
      "[CV 2/5] END .......model__alpha=5.5;, score=-38866387054.907 total time=   0.3s\n",
      "[CV 3/5] END .......model__alpha=5.5;, score=-42749081424.212 total time=   0.3s\n",
      "[CV 4/5] END .......model__alpha=5.5;, score=-35950115335.380 total time=   0.3s\n",
      "[CV 5/5] END .......model__alpha=5.5;, score=-37771616401.159 total time=   0.5s\n",
      "[CV 1/5] END .......model__alpha=5.6;, score=-47334908212.341 total time=   0.4s\n",
      "[CV 2/5] END .......model__alpha=5.6;, score=-38866363644.391 total time=   0.4s\n",
      "[CV 3/5] END .......model__alpha=5.6;, score=-42749165227.206 total time=   0.3s\n",
      "[CV 4/5] END .......model__alpha=5.6;, score=-35950097923.230 total time=   0.3s\n",
      "[CV 5/5] END .......model__alpha=5.6;, score=-37771610449.684 total time=   0.4s\n",
      "[CV 1/5] END .......model__alpha=5.7;, score=-47334873214.879 total time=   0.3s\n",
      "[CV 2/5] END .......model__alpha=5.7;, score=-38866340239.264 total time=   0.3s\n",
      "[CV 3/5] END .......model__alpha=5.7;, score=-42749249034.434 total time=   0.3s\n",
      "[CV 4/5] END .......model__alpha=5.7;, score=-35950080515.085 total time=   0.3s\n",
      "[CV 5/5] END .......model__alpha=5.7;, score=-37771604502.390 total time=   0.3s\n",
      "[CV 1/5] END .......model__alpha=5.8;, score=-47334838221.822 total time=   0.3s\n",
      "[CV 2/5] END .......model__alpha=5.8;, score=-38866316839.525 total time=   0.3s\n",
      "[CV 3/5] END .......model__alpha=5.8;, score=-42749332845.895 total time=   0.3s\n",
      "[CV 4/5] END .......model__alpha=5.8;, score=-35950063110.947 total time=   0.3s\n",
      "[CV 5/5] END .......model__alpha=5.8;, score=-37771598559.278 total time=   0.3s\n",
      "[CV 1/5] END .......model__alpha=5.9;, score=-47334803233.170 total time=   0.3s\n",
      "[CV 2/5] END .......model__alpha=5.9;, score=-38866293445.175 total time=   0.3s\n",
      "[CV 3/5] END .......model__alpha=5.9;, score=-42749416661.590 total time=   0.3s\n",
      "[CV 4/5] END .......model__alpha=5.9;, score=-35950045710.816 total time=   0.3s\n"
     ]
    },
    {
     "name": "stdout",
     "output_type": "stream",
     "text": [
      "[CV 5/5] END .......model__alpha=5.9;, score=-37771592620.347 total time=   0.3s\n",
      "[CV 1/5] END .......model__alpha=6.0;, score=-47334768248.923 total time=   0.3s\n",
      "[CV 2/5] END .......model__alpha=6.0;, score=-38866270056.214 total time=   0.3s\n",
      "[CV 3/5] END .......model__alpha=6.0;, score=-42749500481.519 total time=   0.3s\n",
      "[CV 4/5] END .......model__alpha=6.0;, score=-35950028314.691 total time=   0.3s\n",
      "[CV 5/5] END .......model__alpha=6.0;, score=-37771586685.598 total time=   0.3s\n",
      "[CV 1/5] END .......model__alpha=6.1;, score=-47334733269.080 total time=   0.3s\n",
      "[CV 2/5] END .......model__alpha=6.1;, score=-38866246672.641 total time=   0.3s\n",
      "[CV 3/5] END .......model__alpha=6.1;, score=-42749584305.682 total time=   0.3s\n",
      "[CV 4/5] END .......model__alpha=6.1;, score=-35950010922.572 total time=   0.3s\n",
      "[CV 5/5] END .......model__alpha=6.1;, score=-37771580755.030 total time=   0.5s\n",
      "[CV 1/5] END .......model__alpha=6.2;, score=-47334698293.642 total time=   0.4s\n",
      "[CV 2/5] END .......model__alpha=6.2;, score=-38866223294.458 total time=   0.3s\n",
      "[CV 3/5] END .......model__alpha=6.2;, score=-42749668134.078 total time=   0.3s\n",
      "[CV 4/5] END .......model__alpha=6.2;, score=-35949993534.460 total time=   0.3s\n",
      "[CV 5/5] END .......model__alpha=6.2;, score=-37771574828.643 total time=   0.3s\n",
      "[CV 1/5] END .......model__alpha=6.3;, score=-47334663322.609 total time=   0.3s\n",
      "[CV 2/5] END .......model__alpha=6.3;, score=-38866199921.662 total time=   0.3s\n",
      "[CV 3/5] END .......model__alpha=6.3;, score=-42749751966.708 total time=   0.3s\n",
      "[CV 4/5] END .......model__alpha=6.3;, score=-35949976150.354 total time=   0.3s\n",
      "[CV 5/5] END .......model__alpha=6.3;, score=-37771568906.438 total time=   0.3s\n",
      "[CV 1/5] END .......model__alpha=6.4;, score=-47334628355.980 total time=   0.3s\n",
      "[CV 2/5] END .......model__alpha=6.4;, score=-38866176554.256 total time=   0.3s\n",
      "[CV 3/5] END .......model__alpha=6.4;, score=-42749835803.572 total time=   0.3s\n",
      "[CV 4/5] END .......model__alpha=6.4;, score=-35949958770.255 total time=   0.3s\n",
      "[CV 5/5] END .......model__alpha=6.4;, score=-37771562988.414 total time=   0.3s\n",
      "[CV 1/5] END .......model__alpha=6.5;, score=-47334593393.756 total time=   0.3s\n",
      "[CV 2/5] END .......model__alpha=6.5;, score=-38866153192.238 total time=   0.3s\n",
      "[CV 3/5] END .......model__alpha=6.5;, score=-42749919644.670 total time=   0.3s\n",
      "[CV 4/5] END .......model__alpha=6.5;, score=-35949941394.162 total time=   0.3s\n",
      "[CV 5/5] END .......model__alpha=6.5;, score=-37771557074.572 total time=   0.3s\n",
      "[CV 1/5] END .......model__alpha=6.6;, score=-47334558435.937 total time=   0.3s\n",
      "[CV 2/5] END .......model__alpha=6.6;, score=-38866129835.609 total time=   0.3s\n",
      "[CV 3/5] END .......model__alpha=6.6;, score=-42750003490.002 total time=   0.3s\n",
      "[CV 4/5] END .......model__alpha=6.6;, score=-35949924022.075 total time=   0.3s\n",
      "[CV 5/5] END .......model__alpha=6.6;, score=-37771551164.911 total time=   0.3s\n",
      "[CV 1/5] END .......model__alpha=6.7;, score=-47334523482.523 total time=   0.3s\n",
      "[CV 2/5] END .......model__alpha=6.7;, score=-38866106484.368 total time=   0.3s\n",
      "[CV 3/5] END .......model__alpha=6.7;, score=-42750087339.568 total time=   0.3s\n",
      "[CV 4/5] END .......model__alpha=6.7;, score=-35949906653.995 total time=   0.3s\n",
      "[CV 5/5] END .......model__alpha=6.7;, score=-37771545259.431 total time=   0.3s\n",
      "[CV 1/5] END .......model__alpha=6.8;, score=-47334488533.513 total time=   0.3s\n",
      "[CV 2/5] END .......model__alpha=6.8;, score=-38866083138.516 total time=   0.3s\n",
      "[CV 3/5] END .......model__alpha=6.8;, score=-42750171193.367 total time=   0.3s\n",
      "[CV 4/5] END .......model__alpha=6.8;, score=-35949889289.921 total time=   0.3s\n",
      "[CV 5/5] END .......model__alpha=6.8;, score=-37771539358.133 total time=   0.3s\n",
      "[CV 1/5] END .......model__alpha=6.9;, score=-47334453588.907 total time=   0.3s\n",
      "[CV 2/5] END .......model__alpha=6.9;, score=-38866059798.053 total time=   0.3s\n",
      "[CV 3/5] END .......model__alpha=6.9;, score=-42750255051.400 total time=   0.3s\n",
      "[CV 4/5] END .......model__alpha=6.9;, score=-35949871929.853 total time=   0.3s\n",
      "[CV 5/5] END .......model__alpha=6.9;, score=-37771533461.017 total time=   0.3s\n",
      "[CV 1/5] END .......model__alpha=7.0;, score=-47334418648.707 total time=   0.3s\n",
      "[CV 2/5] END .......model__alpha=7.0;, score=-38866036462.978 total time=   0.3s\n",
      "[CV 3/5] END .......model__alpha=7.0;, score=-42750338913.667 total time=   0.3s\n",
      "[CV 4/5] END .......model__alpha=7.0;, score=-35949854573.792 total time=   0.3s\n",
      "[CV 5/5] END .......model__alpha=7.0;, score=-37771527568.081 total time=   0.3s\n",
      "[CV 1/5] END .......model__alpha=7.1;, score=-47334383712.911 total time=   0.3s\n",
      "[CV 2/5] END .......model__alpha=7.1;, score=-38866013133.292 total time=   0.3s\n",
      "[CV 3/5] END .......model__alpha=7.1;, score=-42750422780.168 total time=   0.3s\n",
      "[CV 4/5] END .......model__alpha=7.1;, score=-35949837221.738 total time=   0.3s\n",
      "[CV 5/5] END .......model__alpha=7.1;, score=-37771521679.328 total time=   0.3s\n",
      "[CV 1/5] END .......model__alpha=7.2;, score=-47334348781.520 total time=   0.3s\n",
      "[CV 2/5] END .......model__alpha=7.2;, score=-38865989808.995 total time=   0.3s\n",
      "[CV 3/5] END .......model__alpha=7.2;, score=-42750506650.902 total time=   0.3s\n",
      "[CV 4/5] END .......model__alpha=7.2;, score=-35949819873.689 total time=   0.3s\n",
      "[CV 5/5] END .......model__alpha=7.2;, score=-37771515794.755 total time=   0.3s\n",
      "[CV 1/5] END .......model__alpha=7.3;, score=-47334313854.533 total time=   0.3s\n",
      "[CV 2/5] END .......model__alpha=7.3;, score=-38865966490.086 total time=   0.3s\n",
      "[CV 3/5] END .......model__alpha=7.3;, score=-42750590525.871 total time=   0.3s\n",
      "[CV 4/5] END .......model__alpha=7.3;, score=-35949802529.648 total time=   0.3s\n",
      "[CV 5/5] END .......model__alpha=7.3;, score=-37771509914.364 total time=   0.3s\n",
      "[CV 1/5] END .......model__alpha=7.4;, score=-47334278931.951 total time=   0.3s\n",
      "[CV 2/5] END .......model__alpha=7.4;, score=-38865943176.566 total time=   0.3s\n",
      "[CV 3/5] END .......model__alpha=7.4;, score=-42750674405.073 total time=   0.3s\n",
      "[CV 4/5] END .......model__alpha=7.4;, score=-35949785189.612 total time=   0.3s\n",
      "[CV 5/5] END .......model__alpha=7.4;, score=-37771504038.155 total time=   0.3s\n",
      "[CV 1/5] END .......model__alpha=7.5;, score=-47334244013.774 total time=   0.3s\n",
      "[CV 2/5] END .......model__alpha=7.5;, score=-38865919868.435 total time=   0.3s\n",
      "[CV 3/5] END .......model__alpha=7.5;, score=-42750758288.509 total time=   0.3s\n",
      "[CV 4/5] END .......model__alpha=7.5;, score=-35949767853.583 total time=   0.3s\n",
      "[CV 5/5] END .......model__alpha=7.5;, score=-37771498166.127 total time=   0.3s\n",
      "[CV 1/5] END .......model__alpha=7.6;, score=-47334209100.001 total time=   0.3s\n",
      "[CV 2/5] END .......model__alpha=7.6;, score=-38865896565.692 total time=   0.3s\n",
      "[CV 3/5] END .......model__alpha=7.6;, score=-42750842176.178 total time=   0.3s\n",
      "[CV 4/5] END .......model__alpha=7.6;, score=-35949750521.560 total time=   0.3s\n",
      "[CV 5/5] END .......model__alpha=7.6;, score=-37771492298.280 total time=   0.3s\n",
      "[CV 1/5] END .......model__alpha=7.7;, score=-47334174190.634 total time=   0.3s\n",
      "[CV 2/5] END .......model__alpha=7.7;, score=-38865873268.338 total time=   0.3s\n",
      "[CV 3/5] END .......model__alpha=7.7;, score=-42750926068.082 total time=   0.3s\n",
      "[CV 4/5] END .......model__alpha=7.7;, score=-35949733193.544 total time=   0.3s\n",
      "[CV 5/5] END .......model__alpha=7.7;, score=-37771486434.615 total time=   0.3s\n",
      "[CV 1/5] END .......model__alpha=7.8;, score=-47334139285.670 total time=   0.3s\n",
      "[CV 2/5] END .......model__alpha=7.8;, score=-38865849976.373 total time=   0.3s\n",
      "[CV 3/5] END .......model__alpha=7.8;, score=-42751009964.219 total time=   0.3s\n",
      "[CV 4/5] END .......model__alpha=7.8;, score=-35949715869.534 total time=   0.3s\n",
      "[CV 5/5] END .......model__alpha=7.8;, score=-37771480575.131 total time=   0.3s\n",
      "[CV 1/5] END .......model__alpha=7.9;, score=-47334104385.112 total time=   0.3s\n",
      "[CV 2/5] END .......model__alpha=7.9;, score=-38865826689.796 total time=   0.3s\n",
      "[CV 3/5] END .......model__alpha=7.9;, score=-42751093864.590 total time=   0.3s\n",
      "[CV 4/5] END .......model__alpha=7.9;, score=-35949698549.531 total time=   0.3s\n",
      "[CV 5/5] END .......model__alpha=7.9;, score=-37771474719.828 total time=   0.3s\n",
      "[CV 1/5] END .......model__alpha=8.0;, score=-47334069488.958 total time=   0.3s\n"
     ]
    },
    {
     "name": "stdout",
     "output_type": "stream",
     "text": [
      "[CV 2/5] END .......model__alpha=8.0;, score=-38865803408.608 total time=   0.3s\n",
      "[CV 3/5] END .......model__alpha=8.0;, score=-42751177769.195 total time=   0.3s\n",
      "[CV 4/5] END .......model__alpha=8.0;, score=-35949681233.534 total time=   0.3s\n",
      "[CV 5/5] END .......model__alpha=8.0;, score=-37771468868.707 total time=   0.3s\n",
      "[CV 1/5] END .......model__alpha=8.1;, score=-47334034597.209 total time=   0.3s\n",
      "[CV 2/5] END .......model__alpha=8.1;, score=-38865780132.808 total time=   0.3s\n",
      "[CV 3/5] END .......model__alpha=8.1;, score=-42751261678.034 total time=   0.3s\n",
      "[CV 4/5] END .......model__alpha=8.1;, score=-35949663921.543 total time=   0.3s\n",
      "[CV 5/5] END .......model__alpha=8.1;, score=-37771463021.768 total time=   0.3s\n",
      "[CV 1/5] END .......model__alpha=8.2;, score=-47333999709.864 total time=   0.3s\n",
      "[CV 2/5] END .......model__alpha=8.2;, score=-38865756862.398 total time=   0.3s\n",
      "[CV 3/5] END .......model__alpha=8.2;, score=-42751345591.106 total time=   0.3s\n",
      "[CV 4/5] END .......model__alpha=8.2;, score=-35949646613.559 total time=   0.3s\n",
      "[CV 5/5] END .......model__alpha=8.2;, score=-37771457179.010 total time=   0.3s\n",
      "[CV 1/5] END .......model__alpha=8.3;, score=-47333964826.925 total time=   0.3s\n",
      "[CV 2/5] END .......model__alpha=8.3;, score=-38865733597.376 total time=   0.3s\n",
      "[CV 3/5] END .......model__alpha=8.3;, score=-42751429508.413 total time=   0.3s\n",
      "[CV 4/5] END .......model__alpha=8.3;, score=-35949629309.581 total time=   0.3s\n",
      "[CV 5/5] END .......model__alpha=8.3;, score=-37771451340.433 total time=   0.3s\n",
      "[CV 1/5] END .......model__alpha=8.4;, score=-47333929948.389 total time=   0.3s\n",
      "[CV 2/5] END .......model__alpha=8.4;, score=-38865710337.742 total time=   0.3s\n",
      "[CV 3/5] END .......model__alpha=8.4;, score=-42751513429.953 total time=   0.3s\n",
      "[CV 4/5] END .......model__alpha=8.4;, score=-35949612009.609 total time=   0.3s\n",
      "[CV 5/5] END .......model__alpha=8.4;, score=-37771445506.038 total time=   0.3s\n",
      "[CV 1/5] END .......model__alpha=8.5;, score=-47333895074.259 total time=   0.3s\n",
      "[CV 2/5] END .......model__alpha=8.5;, score=-38865687083.497 total time=   0.3s\n",
      "[CV 3/5] END .......model__alpha=8.5;, score=-42751597355.727 total time=   0.3s\n",
      "[CV 4/5] END .......model__alpha=8.5;, score=-35949594713.644 total time=   0.3s\n",
      "[CV 5/5] END .......model__alpha=8.5;, score=-37771439675.824 total time=   0.3s\n",
      "[CV 1/5] END .......model__alpha=8.6;, score=-47333860204.533 total time=   0.3s\n",
      "[CV 2/5] END .......model__alpha=8.6;, score=-38865663834.641 total time=   0.3s\n",
      "[CV 3/5] END .......model__alpha=8.6;, score=-42751681285.734 total time=   0.3s\n",
      "[CV 4/5] END .......model__alpha=8.6;, score=-35949577421.686 total time=   0.3s\n",
      "[CV 5/5] END .......model__alpha=8.6;, score=-37771433849.791 total time=   0.3s\n",
      "[CV 1/5] END .......model__alpha=8.7;, score=-47333825339.212 total time=   0.3s\n",
      "[CV 2/5] END .......model__alpha=8.7;, score=-38865640591.174 total time=   0.3s\n",
      "[CV 3/5] END .......model__alpha=8.7;, score=-42751765219.976 total time=   0.3s\n",
      "[CV 4/5] END .......model__alpha=8.7;, score=-35949560133.733 total time=   0.3s\n",
      "[CV 5/5] END .......model__alpha=8.7;, score=-37771428027.940 total time=   0.3s\n",
      "[CV 1/5] END .......model__alpha=8.8;, score=-47333790478.296 total time=   0.3s\n",
      "[CV 2/5] END .......model__alpha=8.8;, score=-38865617353.095 total time=   0.3s\n",
      "[CV 3/5] END .......model__alpha=8.8;, score=-42751849158.451 total time=   0.3s\n",
      "[CV 4/5] END .......model__alpha=8.8;, score=-35949542849.787 total time=   0.3s\n",
      "[CV 5/5] END .......model__alpha=8.8;, score=-37771422210.271 total time=   0.3s\n",
      "[CV 1/5] END .......model__alpha=8.9;, score=-47333755621.784 total time=   0.3s\n",
      "[CV 2/5] END .......model__alpha=8.9;, score=-38865594120.405 total time=   0.3s\n",
      "[CV 3/5] END .......model__alpha=8.9;, score=-42751933101.160 total time=   0.3s\n",
      "[CV 4/5] END .......model__alpha=8.9;, score=-35949525569.848 total time=   0.3s\n",
      "[CV 5/5] END .......model__alpha=8.9;, score=-37771416396.783 total time=   0.3s\n",
      "[CV 1/5] END .......model__alpha=9.0;, score=-47333720769.677 total time=   0.3s\n",
      "[CV 2/5] END .......model__alpha=9.0;, score=-38865570893.103 total time=   0.3s\n",
      "[CV 3/5] END .......model__alpha=9.0;, score=-42752017048.103 total time=   0.3s\n",
      "[CV 4/5] END .......model__alpha=9.0;, score=-35949508293.915 total time=   0.3s\n",
      "[CV 5/5] END .......model__alpha=9.0;, score=-37771410587.476 total time=   0.3s\n",
      "[CV 1/5] END .......model__alpha=9.1;, score=-47333685921.974 total time=   0.3s\n",
      "[CV 2/5] END .......model__alpha=9.1;, score=-38865547671.191 total time=   0.3s\n",
      "[CV 3/5] END .......model__alpha=9.1;, score=-42752100999.280 total time=   0.3s\n",
      "[CV 4/5] END .......model__alpha=9.1;, score=-35949491021.988 total time=   0.3s\n",
      "[CV 5/5] END .......model__alpha=9.1;, score=-37771404782.350 total time=   0.3s\n",
      "[CV 1/5] END .......model__alpha=9.2;, score=-47333651078.677 total time=   0.3s\n",
      "[CV 2/5] END .......model__alpha=9.2;, score=-38865524454.667 total time=   0.3s\n",
      "[CV 3/5] END .......model__alpha=9.2;, score=-42752184954.691 total time=   0.3s\n",
      "[CV 4/5] END .......model__alpha=9.2;, score=-35949473754.068 total time=   0.3s\n",
      "[CV 5/5] END .......model__alpha=9.2;, score=-37771398981.406 total time=   0.3s\n",
      "[CV 1/5] END .......model__alpha=9.3;, score=-47333616239.784 total time=   0.3s\n",
      "[CV 2/5] END .......model__alpha=9.3;, score=-38865501243.531 total time=   0.3s\n",
      "[CV 3/5] END .......model__alpha=9.3;, score=-42752268914.335 total time=   0.3s\n",
      "[CV 4/5] END .......model__alpha=9.3;, score=-35949456490.154 total time=   0.3s\n",
      "[CV 5/5] END .......model__alpha=9.3;, score=-37771393184.644 total time=   0.3s\n",
      "[CV 1/5] END .......model__alpha=9.4;, score=-47333581405.295 total time=   0.3s\n",
      "[CV 2/5] END .......model__alpha=9.4;, score=-38865478037.784 total time=   0.3s\n",
      "[CV 3/5] END .......model__alpha=9.4;, score=-42752352878.213 total time=   0.3s\n",
      "[CV 4/5] END .......model__alpha=9.4;, score=-35949439230.247 total time=   0.3s\n",
      "[CV 5/5] END .......model__alpha=9.4;, score=-37771387392.063 total time=   0.3s\n",
      "[CV 1/5] END .......model__alpha=9.5;, score=-47333546575.212 total time=   0.3s\n",
      "[CV 2/5] END .......model__alpha=9.5;, score=-38865454837.426 total time=   0.3s\n",
      "[CV 3/5] END .......model__alpha=9.5;, score=-42752436846.325 total time=   0.3s\n",
      "[CV 4/5] END .......model__alpha=9.5;, score=-35949421974.345 total time=   0.3s\n",
      "[CV 5/5] END .......model__alpha=9.5;, score=-37771381603.663 total time=   0.3s\n",
      "[CV 1/5] END .......model__alpha=9.6;, score=-47333511749.533 total time=   0.3s\n",
      "[CV 2/5] END .......model__alpha=9.6;, score=-38865431642.457 total time=   0.3s\n",
      "[CV 3/5] END .......model__alpha=9.6;, score=-42752520818.671 total time=   0.3s\n",
      "[CV 4/5] END .......model__alpha=9.6;, score=-35949404722.451 total time=   0.3s\n",
      "[CV 5/5] END .......model__alpha=9.6;, score=-37771375819.445 total time=   0.3s\n",
      "[CV 1/5] END model__alpha=9.700000000000001;, score=-47333476928.258 total time=   0.3s\n",
      "[CV 2/5] END model__alpha=9.700000000000001;, score=-38865408452.876 total time=   0.3s\n",
      "[CV 3/5] END model__alpha=9.700000000000001;, score=-42752604795.250 total time=   0.3s\n",
      "[CV 4/5] END model__alpha=9.700000000000001;, score=-35949387474.562 total time=   0.3s\n",
      "[CV 5/5] END model__alpha=9.700000000000001;, score=-37771370039.408 total time=   0.3s\n",
      "[CV 1/5] END .......model__alpha=9.8;, score=-47333442111.389 total time=   0.3s\n",
      "[CV 2/5] END .......model__alpha=9.8;, score=-38865385268.683 total time=   0.3s\n",
      "[CV 3/5] END .......model__alpha=9.8;, score=-42752688776.063 total time=   0.3s\n",
      "[CV 4/5] END .......model__alpha=9.8;, score=-35949370230.681 total time=   0.3s\n",
      "[CV 5/5] END .......model__alpha=9.8;, score=-37771364263.553 total time=   0.3s\n",
      "[CV 1/5] END .......model__alpha=9.9;, score=-47333407298.924 total time=   0.3s\n",
      "[CV 2/5] END .......model__alpha=9.9;, score=-38865362089.880 total time=   0.3s\n",
      "[CV 3/5] END .......model__alpha=9.9;, score=-42752772761.111 total time=   0.3s\n",
      "[CV 4/5] END .......model__alpha=9.9;, score=-35949352990.805 total time=   0.3s\n",
      "[CV 5/5] END .......model__alpha=9.9;, score=-37771358491.879 total time=   0.3s\n"
     ]
    },
    {
     "data": {
      "text/plain": [
       "array(['bedrooms', 'bathrooms', 'm2_living', 'm2_total', 'floors',\n",
       "       'waterfront', 'view', 'condition', 'grade', 'm2_above',\n",
       "       'm2_basement', 'yr_built', 'yr_renovated', 'zipcode', 'lat',\n",
       "       'long', 'month', 'year', 'day', 'weekday'], dtype='<U12')"
      ]
     },
     "execution_count": 95,
     "metadata": {},
     "output_type": "execute_result"
    }
   ],
   "source": [
    "#alphas = [0.1,0.3, 0.5, 0.8, 1]\n",
    "features = X.columns.to_list()\n",
    "pipeline = Pipeline([('scaler', RobustScaler()), ('model', Lasso())])\n",
    "#need to fit\n",
    "search = GridSearchCV(pipeline,\n",
    "                      {'model__alpha':np.arange(0.1,10,0.1)},\n",
    "                      cv = 5, scoring=\"neg_mean_squared_error\",verbose=3\n",
    "                      )\n",
    "search.fit(X_train,y_train)\n",
    "coefficients = search.best_estimator_.named_steps['model'].coef_\n",
    "importance = np.abs(coefficients)\n",
    "np.array(features)[importance > 0]"
   ]
  },
  {
   "cell_type": "markdown",
   "id": "a3621d1a",
   "metadata": {},
   "source": [
    "## Gradient Boost regression\n",
    "We manage to perform a successful feature selection with gradient boost regression and cross-validation. It turns out the most important features are grade, lat, m2_above, long, m2_living15 and bathrooms."
   ]
  },
  {
   "cell_type": "code",
   "execution_count": 191,
   "id": "dac08411",
   "metadata": {},
   "outputs": [],
   "source": [
    "def modelfit(alg, X, y, performCV=True, printFeatureImportance=True, cv_folds=5):\n",
    "    #Fit the algorithm on the data\n",
    "    alg.fit(X, y)\n",
    "        \n",
    "    #Predict training set:\n",
    "    dtrain_predictions = alg.predict(X)\n",
    "    \n",
    "    #Perform cross-validation:\n",
    "    if performCV:\n",
    "        cv = RepeatedKFold(n_splits=10, n_repeats=3, random_state=1)\n",
    "        n_scores = cross_val_score(alg, X, y, scoring='neg_mean_absolute_error', cv=cv, n_jobs=-1, error_score='raise')\n",
    "        print('MAE: %.3f (%.3f)' % (np.mean(n_scores), np.std(n_scores)))\n",
    "        \n",
    "    if performCV:\n",
    "        print(f\"CV Score : Mean - {np.mean(n_scores)} | Std - {np.std(n_scores)} | Min - {np.min(n_scores)} | Max - {np.max(n_scores)}\")\n",
    "        \n",
    "    #Print Feature Importance:\n",
    "    if printFeatureImportance:\n",
    "        feat_imp = pd.Series(alg.feature_importances_, X.columns.tolist()).sort_values(ascending=False)\n",
    "        feat_imp.plot(kind='bar', title='Feature Importances')\n",
    "        plt.ylabel('Feature Importance Score')"
   ]
  },
  {
   "cell_type": "code",
   "execution_count": 192,
   "id": "91dd4563",
   "metadata": {},
   "outputs": [
    {
     "name": "stdout",
     "output_type": "stream",
     "text": [
      "MAE: -78790.610 (2155.536)\n",
      "CV Score : Mean - -78790.60961218573 | Std - 2155.5355861458643 | Min - -83435.52627108083 | Max - -74451.0341194863\n"
     ]
    },
    {
     "data": {
      "image/png": "[encoded data removed]",
      "text/plain": [
       "<Figure size 432x288 with 1 Axes>"
      ]
     },
     "metadata": {
      "needs_background": "light"
     },
     "output_type": "display_data"
    }
   ],
   "source": [
    "train = df\n",
    "y = df['price']\n",
    "X = df.drop(['price', 'date_sold', 'basement_cat', \n",
    "             'renovated', 'grade_cat', 'yr_built_bins', 'm2_living', 'm2_total'], axis=1)\n",
    "#predictors = [x for x in X.columns if x not in [target, excluded]]\n",
    "gbm0 = GradientBoostingRegressor()\n",
    "modelfit(gbm0, X, y)"
   ]
  }
 ],
 "metadata": {
  "kernelspec": {
   "display_name": "Python 3 (ipykernel)",
   "language": "python",
   "name": "python3"
  },
  "language_info": {
   "codemirror_mode": {
    "name": "ipython",
    "version": 3
   },
   "file_extension": ".py",
   "mimetype": "text/x-python",
   "name": "python",
   "nbconvert_exporter": "python",
   "pygments_lexer": "ipython3",
   "version": "3.9.7"
  },
  "toc": {
   "base_numbering": 1,
   "nav_menu": {},
   "number_sections": true,
   "sideBar": true,
   "skip_h1_title": false,
   "title_cell": "Table of Contents",
   "title_sidebar": "Contents",
   "toc_cell": true,
   "toc_position": {
    "height": "calc(100% - 180px)",
    "left": "10px",
    "top": "150px",
    "width": "256px"
   },
   "toc_section_display": true,
   "toc_window_display": true
  }
 },
 "nbformat": 4,
 "nbformat_minor": 5
}
